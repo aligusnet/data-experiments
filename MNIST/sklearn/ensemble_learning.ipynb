{
 "cells": [
  {
   "cell_type": "markdown",
   "metadata": {},
   "source": [
    "# Ensemble Learning "
   ]
  },
  {
   "cell_type": "markdown",
   "metadata": {},
   "source": [
    "## Data Loading"
   ]
  },
  {
   "cell_type": "code",
   "execution_count": 1,
   "metadata": {},
   "outputs": [
    {
     "name": "stderr",
     "output_type": "stream",
     "text": [
      "Using TensorFlow backend.\n"
     ]
    }
   ],
   "source": [
    "from keras.datasets import mnist\n",
    "\n",
    "(x, y), (x_test, y_test) = mnist.load_data()\n",
    "\n",
    "x = x.reshape((x.shape[0], x.shape[1] * x.shape[2]))\n",
    "x_test = x_test.reshape((x_test.shape[0], x_test.shape[1] * x_test.shape[2]))"
   ]
  },
  {
   "cell_type": "code",
   "execution_count": 2,
   "metadata": {},
   "outputs": [
    {
     "name": "stdout",
     "output_type": "stream",
     "text": [
      "(50000, 784) (50000,)\n"
     ]
    }
   ],
   "source": [
    "from sklearn.model_selection import train_test_split\n",
    "\n",
    "x_train, x_val, y_train, y_val = train_test_split(x, y, test_size = 10_000)\n",
    "\n",
    "print(x_train.shape, y_train.shape)"
   ]
  },
  {
   "cell_type": "markdown",
   "metadata": {},
   "source": [
    "## Learning"
   ]
  },
  {
   "cell_type": "code",
   "execution_count": 3,
   "metadata": {},
   "outputs": [],
   "source": [
    "from sklearn.metrics import classification_report"
   ]
  },
  {
   "cell_type": "markdown",
   "metadata": {},
   "source": [
    "### Random Forest"
   ]
  },
  {
   "cell_type": "code",
   "execution_count": 4,
   "metadata": {},
   "outputs": [
    {
     "name": "stdout",
     "output_type": "stream",
     "text": [
      "              precision    recall  f1-score   support\n",
      "\n",
      "           0       0.97      0.99      0.98       939\n",
      "           1       0.98      0.99      0.98      1119\n",
      "           2       0.94      0.95      0.95       988\n",
      "           3       0.95      0.93      0.94       998\n",
      "           4       0.96      0.95      0.96      1010\n",
      "           5       0.96      0.95      0.95       875\n",
      "           6       0.96      0.98      0.97      1018\n",
      "           7       0.97      0.96      0.97      1082\n",
      "           8       0.94      0.93      0.94       974\n",
      "           9       0.95      0.94      0.94       997\n",
      "\n",
      "   micro avg       0.96      0.96      0.96     10000\n",
      "   macro avg       0.96      0.96      0.96     10000\n",
      "weighted avg       0.96      0.96      0.96     10000\n",
      "\n",
      "Wall time: 11.6 s\n"
     ]
    }
   ],
   "source": [
    "%%time\n",
    "from sklearn.ensemble import RandomForestClassifier\n",
    "\n",
    "rf_model = RandomForestClassifier(n_estimators = 20)\n",
    "rf_model.fit(x_train, y_train)\n",
    "\n",
    "rf_val_pred = rf_model.predict(x_val)\n",
    "rf_val_proba = rf_model.predict_proba(x_val)\n",
    "\n",
    "print(classification_report(y_val, rf_val_pred))"
   ]
  },
  {
   "cell_type": "markdown",
   "metadata": {},
   "source": [
    "### Extra Trees"
   ]
  },
  {
   "cell_type": "code",
   "execution_count": 5,
   "metadata": {},
   "outputs": [
    {
     "name": "stdout",
     "output_type": "stream",
     "text": [
      "              precision    recall  f1-score   support\n",
      "\n",
      "           0       0.97      0.99      0.98       939\n",
      "           1       0.98      0.99      0.99      1119\n",
      "           2       0.94      0.97      0.95       988\n",
      "           3       0.96      0.94      0.95       998\n",
      "           4       0.96      0.95      0.95      1010\n",
      "           5       0.94      0.96      0.95       875\n",
      "           6       0.97      0.97      0.97      1018\n",
      "           7       0.98      0.96      0.97      1082\n",
      "           8       0.96      0.93      0.94       974\n",
      "           9       0.94      0.95      0.94       997\n",
      "\n",
      "   micro avg       0.96      0.96      0.96     10000\n",
      "   macro avg       0.96      0.96      0.96     10000\n",
      "weighted avg       0.96      0.96      0.96     10000\n",
      "\n",
      "Wall time: 12 s\n"
     ]
    }
   ],
   "source": [
    "%%time\n",
    "\n",
    "from sklearn.ensemble import ExtraTreesClassifier\n",
    "\n",
    "et_model = ExtraTreesClassifier(n_estimators = 20)\n",
    "et_model.fit(x_train, y_train)\n",
    "\n",
    "et_val_pred = et_model.predict(x_val)\n",
    "et_val_proba = et_model.predict_proba(x_val)\n",
    "\n",
    "print(classification_report(y_val, et_val_pred))"
   ]
  },
  {
   "cell_type": "markdown",
   "metadata": {},
   "source": [
    "### Logistic Regression"
   ]
  },
  {
   "cell_type": "code",
   "execution_count": 6,
   "metadata": {},
   "outputs": [
    {
     "name": "stdout",
     "output_type": "stream",
     "text": [
      "              precision    recall  f1-score   support\n",
      "\n",
      "           0       0.94      0.97      0.95       939\n",
      "           1       0.95      0.97      0.96      1119\n",
      "           2       0.90      0.90      0.90       988\n",
      "           3       0.90      0.90      0.90       998\n",
      "           4       0.92      0.92      0.92      1010\n",
      "           5       0.88      0.86      0.87       875\n",
      "           6       0.96      0.95      0.96      1018\n",
      "           7       0.95      0.93      0.94      1082\n",
      "           8       0.90      0.88      0.89       974\n",
      "           9       0.89      0.90      0.89       997\n",
      "\n",
      "   micro avg       0.92      0.92      0.92     10000\n",
      "   macro avg       0.92      0.92      0.92     10000\n",
      "weighted avg       0.92      0.92      0.92     10000\n",
      "\n",
      "Wall time: 22.2 s\n"
     ]
    },
    {
     "name": "stderr",
     "output_type": "stream",
     "text": [
      "c:\\users\\alexa\\.virtualenvs\\ml-awwz4wov\\lib\\site-packages\\sklearn\\linear_model\\logistic.py:758: ConvergenceWarning: lbfgs failed to converge. Increase the number of iterations.\n",
      "  \"of iterations.\", ConvergenceWarning)\n"
     ]
    }
   ],
   "source": [
    "%%time\n",
    "\n",
    "from sklearn.linear_model import LogisticRegression\n",
    "\n",
    "log_model = LogisticRegression(solver='lbfgs', multi_class='auto', max_iter=100, C=0.1)\n",
    "log_model.fit(x_train, y_train)\n",
    "\n",
    "log_val_pred = log_model.predict(x_val)\n",
    "log_val_proba = log_model.predict_proba(x_val)\n",
    "\n",
    "print(classification_report(y_val, log_val_pred))"
   ]
  },
  {
   "cell_type": "markdown",
   "metadata": {},
   "source": [
    "### Ensemble"
   ]
  },
  {
   "cell_type": "code",
   "execution_count": 7,
   "metadata": {},
   "outputs": [
    {
     "name": "stdout",
     "output_type": "stream",
     "text": [
      "Soft Voting\n",
      "              precision    recall  f1-score   support\n",
      "\n",
      "           0       0.97      0.99      0.98       939\n",
      "           1       0.98      0.99      0.99      1119\n",
      "           2       0.94      0.97      0.96       988\n",
      "           3       0.97      0.95      0.96       998\n",
      "           4       0.97      0.95      0.96      1010\n",
      "           5       0.96      0.97      0.96       875\n",
      "           6       0.97      0.98      0.98      1018\n",
      "           7       0.98      0.96      0.97      1082\n",
      "           8       0.96      0.94      0.95       974\n",
      "           9       0.94      0.95      0.95       997\n",
      "\n",
      "   micro avg       0.97      0.97      0.97     10000\n",
      "   macro avg       0.97      0.97      0.97     10000\n",
      "weighted avg       0.97      0.97      0.97     10000\n",
      "\n"
     ]
    }
   ],
   "source": [
    "# soft voting\n",
    "\n",
    "val_proba = (rf_val_proba + et_val_proba) / 2\n",
    "\n",
    "print('Soft Voting')\n",
    "print(classification_report(y_val, val_proba.argmax(axis=1)))"
   ]
  },
  {
   "cell_type": "code",
   "execution_count": null,
   "metadata": {},
   "outputs": [],
   "source": []
  }
 ],
 "metadata": {
  "kernelspec": {
   "display_name": "Python 3",
   "language": "python",
   "name": "python3"
  },
  "language_info": {
   "codemirror_mode": {
    "name": "ipython",
    "version": 3
   },
   "file_extension": ".py",
   "mimetype": "text/x-python",
   "name": "python",
   "nbconvert_exporter": "python",
   "pygments_lexer": "ipython3",
   "version": "3.6.8"
  }
 },
 "nbformat": 4,
 "nbformat_minor": 2
}
