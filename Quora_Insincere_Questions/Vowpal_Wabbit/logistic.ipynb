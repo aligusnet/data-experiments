{
 "cells": [
  {
   "cell_type": "code",
   "execution_count": 1,
   "metadata": {},
   "outputs": [],
   "source": [
    "import re\n",
    "import os\n",
    "import numpy as np\n",
    "import pandas as pd\n",
    "from sklearn.model_selection import train_test_split\n",
    "from sklearn.metrics import roc_auc_score, roc_curve, accuracy_score\n",
    "from sklearn.metrics import confusion_matrix\n",
    "from sklearn.metrics import precision_score, recall_score, f1_score\n",
    "import matplotlib.pyplot as plt\n",
    "%matplotlib inline"
   ]
  },
  {
   "cell_type": "code",
   "execution_count": 2,
   "metadata": {},
   "outputs": [],
   "source": [
    "WORKING_DIR = os.path.join('.input', 'logistic')"
   ]
  },
  {
   "cell_type": "code",
   "execution_count": 3,
   "metadata": {},
   "outputs": [],
   "source": [
    "quora = pd.read_csv('../data/.input/train.csv')"
   ]
  },
  {
   "cell_type": "code",
   "execution_count": 4,
   "metadata": {
    "scrolled": true
   },
   "outputs": [
    {
     "data": {
      "text/html": [
       "<div>\n",
       "<style scoped>\n",
       "    .dataframe tbody tr th:only-of-type {\n",
       "        vertical-align: middle;\n",
       "    }\n",
       "\n",
       "    .dataframe tbody tr th {\n",
       "        vertical-align: top;\n",
       "    }\n",
       "\n",
       "    .dataframe thead th {\n",
       "        text-align: right;\n",
       "    }\n",
       "</style>\n",
       "<table border=\"1\" class=\"dataframe\">\n",
       "  <thead>\n",
       "    <tr style=\"text-align: right;\">\n",
       "      <th></th>\n",
       "      <th>qid</th>\n",
       "      <th>question_text</th>\n",
       "      <th>target</th>\n",
       "    </tr>\n",
       "  </thead>\n",
       "  <tbody>\n",
       "    <tr>\n",
       "      <th>0</th>\n",
       "      <td>00002165364db923c7e6</td>\n",
       "      <td>How did Quebec nationalists see their province...</td>\n",
       "      <td>0</td>\n",
       "    </tr>\n",
       "    <tr>\n",
       "      <th>1</th>\n",
       "      <td>000032939017120e6e44</td>\n",
       "      <td>Do you have an adopted dog, how would you enco...</td>\n",
       "      <td>0</td>\n",
       "    </tr>\n",
       "    <tr>\n",
       "      <th>2</th>\n",
       "      <td>0000412ca6e4628ce2cf</td>\n",
       "      <td>Why does velocity affect time? Does velocity a...</td>\n",
       "      <td>0</td>\n",
       "    </tr>\n",
       "    <tr>\n",
       "      <th>3</th>\n",
       "      <td>000042bf85aa498cd78e</td>\n",
       "      <td>How did Otto von Guericke used the Magdeburg h...</td>\n",
       "      <td>0</td>\n",
       "    </tr>\n",
       "    <tr>\n",
       "      <th>4</th>\n",
       "      <td>0000455dfa3e01eae3af</td>\n",
       "      <td>Can I convert montra helicon D to a mountain b...</td>\n",
       "      <td>0</td>\n",
       "    </tr>\n",
       "    <tr>\n",
       "      <th>5</th>\n",
       "      <td>00004f9a462a357c33be</td>\n",
       "      <td>Is Gaza slowly becoming Auschwitz, Dachau or T...</td>\n",
       "      <td>0</td>\n",
       "    </tr>\n",
       "    <tr>\n",
       "      <th>6</th>\n",
       "      <td>00005059a06ee19e11ad</td>\n",
       "      <td>Why does Quora automatically ban conservative ...</td>\n",
       "      <td>0</td>\n",
       "    </tr>\n",
       "    <tr>\n",
       "      <th>7</th>\n",
       "      <td>0000559f875832745e2e</td>\n",
       "      <td>Is it crazy if I wash or wipe my groceries off...</td>\n",
       "      <td>0</td>\n",
       "    </tr>\n",
       "    <tr>\n",
       "      <th>8</th>\n",
       "      <td>00005bd3426b2d0c8305</td>\n",
       "      <td>Is there such a thing as dressing moderately, ...</td>\n",
       "      <td>0</td>\n",
       "    </tr>\n",
       "    <tr>\n",
       "      <th>9</th>\n",
       "      <td>00006e6928c5df60eacb</td>\n",
       "      <td>Is it just me or have you ever been in this ph...</td>\n",
       "      <td>0</td>\n",
       "    </tr>\n",
       "  </tbody>\n",
       "</table>\n",
       "</div>"
      ],
      "text/plain": [
       "                    qid                                      question_text  \\\n",
       "0  00002165364db923c7e6  How did Quebec nationalists see their province...   \n",
       "1  000032939017120e6e44  Do you have an adopted dog, how would you enco...   \n",
       "2  0000412ca6e4628ce2cf  Why does velocity affect time? Does velocity a...   \n",
       "3  000042bf85aa498cd78e  How did Otto von Guericke used the Magdeburg h...   \n",
       "4  0000455dfa3e01eae3af  Can I convert montra helicon D to a mountain b...   \n",
       "5  00004f9a462a357c33be  Is Gaza slowly becoming Auschwitz, Dachau or T...   \n",
       "6  00005059a06ee19e11ad  Why does Quora automatically ban conservative ...   \n",
       "7  0000559f875832745e2e  Is it crazy if I wash or wipe my groceries off...   \n",
       "8  00005bd3426b2d0c8305  Is there such a thing as dressing moderately, ...   \n",
       "9  00006e6928c5df60eacb  Is it just me or have you ever been in this ph...   \n",
       "\n",
       "   target  \n",
       "0       0  \n",
       "1       0  \n",
       "2       0  \n",
       "3       0  \n",
       "4       0  \n",
       "5       0  \n",
       "6       0  \n",
       "7       0  \n",
       "8       0  \n",
       "9       0  "
      ]
     },
     "execution_count": 4,
     "metadata": {},
     "output_type": "execute_result"
    }
   ],
   "source": [
    "quora.head(10)"
   ]
  },
  {
   "cell_type": "code",
   "execution_count": 5,
   "metadata": {},
   "outputs": [],
   "source": [
    "quora_train, quora_test = train_test_split(quora, random_state=42)\n",
    "quora_train_data = quora_train.question_text\n",
    "quora_train_labels = quora_train.target * 2.0 - 1.0\n",
    "quora_test_data = quora_test.question_text\n",
    "quora_test_labels = quora_test.target * 2.0 - 1.0"
   ]
  },
  {
   "cell_type": "code",
   "execution_count": 6,
   "metadata": {},
   "outputs": [],
   "source": [
    "def to_vw_format(document, label=None):\n",
    "    return str(label or '') + ' |text ' + ' '.join(re.findall('\\w{3,}', document.lower())) + '\\n'"
   ]
  },
  {
   "cell_type": "code",
   "execution_count": 7,
   "metadata": {},
   "outputs": [],
   "source": [
    "!!mkdir $WORKING_DIR\n",
    "trainDataPath = os.path.join(WORKING_DIR, 'train.mw')\n",
    "testDataPath = os.path.join(WORKING_DIR, 'test.mw')\n",
    "modelPath = os.path.join(WORKING_DIR, 'model.mw')\n",
    "predictionsPath = os.path.join(WORKING_DIR, 'test_predictions.txt')\n",
    "cachePath = os.path.join(WORKING_DIR, 'cache')"
   ]
  },
  {
   "cell_type": "code",
   "execution_count": 10,
   "metadata": {},
   "outputs": [],
   "source": [
    "with open(trainDataPath, 'w', encoding='utf-8') as vw_train_data:\n",
    "    for text, target in zip(quora_train_data, quora_train_labels):\n",
    "        vw_train_data.write(to_vw_format(text, target))\n",
    "with open(testDataPath, 'w', encoding='utf-8') as vw_test_data:\n",
    "    for text, target in zip(quora_test_data, quora_test_labels):\n",
    "        vw_test_data.write(to_vw_format(text, target))"
   ]
  },
  {
   "cell_type": "code",
   "execution_count": 8,
   "metadata": {},
   "outputs": [
    {
     "data": {
      "text/plain": [
       "['final_regressor = .input\\\\logistic\\\\model.mw',\n",
       " 'Num weight bits = 18',\n",
       " 'learning rate = 0.5',\n",
       " 'initial_t = 0',\n",
       " 'power_t = 0.5',\n",
       " 'decay_learning_rate = 1',\n",
       " 'using cache_file = .input\\\\logistic\\\\cache',\n",
       " 'ignoring text input in favor of cache input',\n",
       " 'num sources = 1',\n",
       " 'average  since         example        example  current  current  current',\n",
       " 'loss     last          counter         weight    label  predict features',\n",
       " '0.693147 0.693147            1            1.0  -1.0000   0.0000       15',\n",
       " '0.652329 0.611511            2            2.0  -1.0000  -0.1705        6',\n",
       " '0.573442 0.494555            4            4.0  -1.0000  -0.6636        8',\n",
       " '0.466002 0.358561            8            8.0  -1.0000  -1.0173       16',\n",
       " '0.456395 0.446788           16           16.0  -1.0000  -0.7221        5',\n",
       " '0.349735 0.243076           32           32.0  -1.0000  -2.4341        8',\n",
       " '0.301908 0.254081           64           64.0  -1.0000  -1.5463        3',\n",
       " '0.302351 0.302794          128          128.0  -1.0000  -3.2647       13',\n",
       " '0.248700 0.195049          256          256.0  -1.0000  -4.1047       17',\n",
       " '0.220539 0.192378          512          512.0  -1.0000  -3.8987       11',\n",
       " '0.212052 0.203565         1024         1024.0  -1.0000  -3.2451        8',\n",
       " '0.213290 0.214528         2048         2048.0  -1.0000  -3.6414       21',\n",
       " '0.202688 0.192086         4096         4096.0  -1.0000  -3.9915       10',\n",
       " '0.190747 0.178807         8192         8192.0  -1.0000  -3.5158        9',\n",
       " '0.178132 0.165517        16384        16384.0  -1.0000  -1.4448        9',\n",
       " '0.165728 0.153324        32768        32768.0  -1.0000  -2.8631        6',\n",
       " '0.155794 0.145861        65536        65536.0  -1.0000  -2.3484        7',\n",
       " '0.150948 0.146102       131072       131072.0  -1.0000  -0.4314       17',\n",
       " '0.145014 0.139080       262144       262144.0  -1.0000  -3.3142       13',\n",
       " '0.138506 0.131998       524288       524288.0  -1.0000   0.0210       16',\n",
       " '0.133571 0.133571      1048576      1048576.0  -1.0000  -6.7360       15 h',\n",
       " '0.129560 0.125550      2097152      2097152.0  -1.0000  -3.8682        4 h',\n",
       " '',\n",
       " 'finished run',\n",
       " 'number of examples per pass = 881632',\n",
       " 'passes used = 4',\n",
       " 'weighted example sum = 3526528.000000',\n",
       " 'weighted label sum = -3089080.000000',\n",
       " 'average loss = 0.125070 h',\n",
       " 'best constant = -2.716229',\n",
       " \"best constant's loss = 0.232497\",\n",
       " 'total feature number = 38437288']"
      ]
     },
     "execution_count": 8,
     "metadata": {},
     "output_type": "execute_result"
    }
   ],
   "source": [
    "!!vw -d $trainDataPath  --passes 4 --cache_file $cachePath --loss_function logistic  -f $modelPath"
   ]
  },
  {
   "cell_type": "code",
   "execution_count": 9,
   "metadata": {},
   "outputs": [
    {
     "data": {
      "text/plain": [
       "['only testing',\n",
       " 'predictions = .input\\\\logistic\\\\test_predictions.txt',\n",
       " 'Num weight bits = 18',\n",
       " 'learning rate = 0.5',\n",
       " 'initial_t = 0',\n",
       " 'power_t = 0.5',\n",
       " 'using no cache',\n",
       " 'Reading datafile = .input\\\\logistic\\\\test.mw',\n",
       " 'num sources = 1',\n",
       " 'average  since         example        example  current  current  current',\n",
       " 'loss     last          counter         weight    label  predict features',\n",
       " '56.913933 56.913933            1            1.0  -1.0000  -8.5441       13',\n",
       " '35.143147 13.372362            2            2.0  -1.0000  -4.6568        9',\n",
       " '44.505529 53.867911            4            4.0  -1.0000 -10.3877       11',\n",
       " '37.683351 30.861172            8            8.0  -1.0000  -5.7752       11',\n",
       " '27.998498 18.313645           16           16.0  -1.0000  -5.0617        8',\n",
       " '24.846759 21.695019           32           32.0  -1.0000  -3.8562        8',\n",
       " '20.931045 17.015332           64           64.0  -1.0000  -6.6764       11',\n",
       " '19.677226 18.423406          128          128.0  -1.0000  -3.7697       13',\n",
       " '18.408442 17.139658          256          256.0  -1.0000  -6.0525       13',\n",
       " '19.347871 20.287301          512          512.0   1.0000  -5.5876       21',\n",
       " '18.642701 17.937530         1024         1024.0  -1.0000  -4.7217        7',\n",
       " '19.202792 19.762883         2048         2048.0  -1.0000  -8.1562       15',\n",
       " '19.198362 19.193932         4096         4096.0   1.0000   4.8391       35',\n",
       " '18.835143 18.471924         8192         8192.0  -1.0000  -4.7997       12',\n",
       " '18.996599 19.158056        16384        16384.0  -1.0000  -7.9146       13',\n",
       " '19.001007 19.005415        32768        32768.0  -1.0000  -5.2597       13',\n",
       " '18.894507 18.788006        65536        65536.0  -1.0000  -0.7014       19',\n",
       " '18.885734 18.876961       131072       131072.0  -1.0000  -5.0767        8',\n",
       " '18.903994 18.922253       262144       262144.0  -1.0000  -4.2082       10',\n",
       " '',\n",
       " 'finished run',\n",
       " 'number of examples per pass = 326531',\n",
       " 'passes used = 1',\n",
       " 'weighted example sum = 326531.000000',\n",
       " 'weighted label sum = -286653.000000',\n",
       " 'average loss = 18.923612',\n",
       " 'best constant = -0.877874',\n",
       " \"best constant's loss = 0.229338\",\n",
       " 'total feature number = 3559382']"
      ]
     },
     "execution_count": 9,
     "metadata": {},
     "output_type": "execute_result"
    }
   ],
   "source": [
    "!!vw -i $modelPath -t -d $testDataPath -p $predictionsPath"
   ]
  },
  {
   "cell_type": "code",
   "execution_count": 11,
   "metadata": {
    "scrolled": true
   },
   "outputs": [
    {
     "data": {
      "image/png": "[encoded data removed]",
      "text/plain": [
       "<Figure size 432x288 with 1 Axes>"
      ]
     },
     "metadata": {
      "needs_background": "light"
     },
     "output_type": "display_data"
    }
   ],
   "source": [
    "with open(predictionsPath) as pred_file:\n",
    "    quora_test_prediction = [float(label) \n",
    "                             for label in pred_file.readlines()]\n",
    "\n",
    "auc = roc_auc_score(quora_test_labels, quora_test_prediction)\n",
    "curve = roc_curve(quora_test_labels, quora_test_prediction)\n",
    "\n",
    "\n",
    "plt.plot(curve[0], curve[1]);\n",
    "plt.plot([0,1], [0,1])\n",
    "plt.xlabel('FPR'); plt.ylabel('TPR'); plt.title('test AUC = %f' % (auc)); plt.axis([-0.05,1.05,-0.05,1.05]);\n"
   ]
  },
  {
   "cell_type": "code",
   "execution_count": 12,
   "metadata": {},
   "outputs": [
    {
     "name": "stdout",
     "output_type": "stream",
     "text": [
      "accuracy 0.9539706796598179\n",
      "precision 0.7006457941633287\n",
      "recall 0.4298610762826621\n",
      "f1 0.5328235732935472\n"
     ]
    },
    {
     "data": {
      "text/plain": [
       "array([[302930,   3662],\n",
       "       [ 11368,   8571]], dtype=int64)"
      ]
     },
     "execution_count": 12,
     "metadata": {},
     "output_type": "execute_result"
    }
   ],
   "source": [
    "quora_test_pred = list(map(lambda x: -1.0 if x < 0.0 else 1.0, quora_test_prediction))\n",
    "print('accuracy', accuracy_score(quora_test_labels, quora_test_pred))\n",
    "print('precision', precision_score(quora_test_labels, quora_test_pred))\n",
    "print('recall', recall_score(quora_test_labels, quora_test_pred))\n",
    "print('f1', f1_score(quora_test_labels, quora_test_pred))\n",
    "confusion_matrix(quora_test_labels, quora_test_pred)"
   ]
  },
  {
   "cell_type": "code",
   "execution_count": null,
   "metadata": {},
   "outputs": [],
   "source": []
  }
 ],
 "metadata": {
  "kernelspec": {
   "display_name": "Python 3",
   "language": "python",
   "name": "python3"
  },
  "language_info": {
   "codemirror_mode": {
    "name": "ipython",
    "version": 3
   },
   "file_extension": ".py",
   "mimetype": "text/x-python",
   "name": "python",
   "nbconvert_exporter": "python",
   "pygments_lexer": "ipython3",
   "version": "3.7.0"
  }
 },
 "nbformat": 4,
 "nbformat_minor": 2
}
