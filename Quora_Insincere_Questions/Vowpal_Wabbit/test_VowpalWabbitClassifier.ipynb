{
 "cells": [
  {
   "cell_type": "code",
   "execution_count": 1,
   "metadata": {},
   "outputs": [],
   "source": [
    "import re\n",
    "import numpy as np\n",
    "import pandas as pd\n",
    "from sklearn.model_selection import train_test_split\n",
    "from sklearn.metrics import roc_auc_score, roc_curve, accuracy_score\n",
    "from sklearn.metrics import confusion_matrix\n",
    "from sklearn.metrics import precision_score, recall_score, f1_score\n",
    "import matplotlib.pyplot as plt\n",
    "%matplotlib inline"
   ]
  },
  {
   "cell_type": "code",
   "execution_count": 2,
   "metadata": {},
   "outputs": [],
   "source": [
    "import sys\n",
    "import os\n",
    "sys.path.append(os.path.join('..', '..'))\n",
    "from vowpal_wabbit import VowpalWabbitClassifier"
   ]
  },
  {
   "cell_type": "code",
   "execution_count": 3,
   "metadata": {},
   "outputs": [],
   "source": [
    "quora = pd.read_csv('../data/.input/train.csv')"
   ]
  },
  {
   "cell_type": "code",
   "execution_count": 4,
   "metadata": {},
   "outputs": [],
   "source": [
    "quora_train, quora_test = train_test_split(quora, random_state=42)\n",
    "quora_train_data = quora_train.question_text\n",
    "quora_train_labels = quora_train.target * 2.0 - 1.0\n",
    "quora_test_data = quora_test.question_text\n",
    "quora_test_labels = quora_test.target * 2.0 - 1.0"
   ]
  },
  {
   "cell_type": "code",
   "execution_count": 5,
   "metadata": {},
   "outputs": [],
   "source": [
    "def to_vw_format(document, label=None):\n",
    "    return str(label or '') + ' |text ' + ' '.join(re.findall('\\w{3,}', document.lower())) + '\\n'"
   ]
  },
  {
   "cell_type": "code",
   "execution_count": 6,
   "metadata": {},
   "outputs": [],
   "source": [
    "!!mkdir .input\n",
    "with open('.input/train.vw', 'w', encoding='utf-8') as vw_train_data:\n",
    "    for text, target in zip(quora_train_data, quora_train_labels):\n",
    "        vw_train_data.write(to_vw_format(text, target))\n",
    "with open('.input/test.vw', 'w', encoding='utf-8') as vw_test_data:\n",
    "    for text in quora_test_data:\n",
    "        vw_test_data.write(to_vw_format(text))"
   ]
  },
  {
   "cell_type": "code",
   "execution_count": 7,
   "metadata": {},
   "outputs": [
    {
     "name": "stdout",
     "output_type": "stream",
     "text": [
      "final_regressor = .input\\d6cdb542-e6d1-11e8-84f4-0013efb00144.model\n",
      "Num weight bits = 27\n",
      "learning rate = 0.5\n",
      "initial_t = 0\n",
      "power_t = 0.5\n",
      "using no cache\n",
      "Reading datafile = .input/train.vw\n",
      "num sources = 1\n",
      "average  since         example        example  current  current  current\n",
      "loss     last          counter         weight    label  predict features\n",
      "0.693147 0.693147            1            1.0  -1.0000   0.0000       15\n",
      "0.652329 0.611511            2            2.0  -1.0000  -0.1705        6\n",
      "0.573442 0.494555            4            4.0  -1.0000  -0.6636        8\n",
      "0.466002 0.358561            8            8.0  -1.0000  -1.0173       16\n",
      "0.451681 0.437360           16           16.0  -1.0000  -1.2570       10\n",
      "0.348959 0.246237           32           32.0  -1.0000  -1.7525        6\n",
      "0.303475 0.257992           64           64.0  -1.0000  -1.1768        6\n",
      "0.267824 0.232172          128          128.0  -1.0000  -2.4454        6\n",
      "0.256853 0.245882          256          256.0  -1.0000  -4.5194       12\n",
      "0.220334 0.183816          512          512.0  -1.0000  -2.6613        9\n",
      "0.220747 0.221160         1024         1024.0  -1.0000  -3.4502        8\n",
      "0.212515 0.204284         2048         2048.0  -1.0000  -3.7876       20\n",
      "0.202582 0.192649         4096         4096.0  -1.0000  -3.4336        9\n",
      "0.189837 0.177091         8192         8192.0  -1.0000  -0.2926       23\n",
      "0.176582 0.163327        16384        16384.0  -1.0000  -2.9424       10\n",
      "0.164078 0.151574        32768        32768.0  -1.0000  -5.5697       11\n",
      "0.155611 0.147143        65536        65536.0  -1.0000  -2.5199       16\n",
      "0.150262 0.144913       131072       131072.0  -1.0000  -5.4129        8\n",
      "0.144709 0.139156       262144       262144.0  -1.0000  -2.8470        8\n",
      "0.138111 0.131513       524288       524288.0  -1.0000  -5.9518       10\n",
      "\n",
      "finished run\n",
      "number of examples per pass = 979591\n",
      "passes used = 1\n",
      "weighted example sum = 979591.000000\n",
      "weighted label sum = -857849.000000\n",
      "average loss = 0.133714\n",
      "best constant = -2.714225\n",
      "best constant's loss = 0.232813\n",
      "total feature number = 10675818\n",
      "\n"
     ]
    },
    {
     "data": {
      "text/plain": [
       "VowpalWabbitClassifier(debug=None, fit_params=None, vw_path=None,\n",
       "            working_dir=None)"
      ]
     },
     "execution_count": 7,
     "metadata": {},
     "output_type": "execute_result"
    }
   ],
   "source": [
    "fit_params = {\n",
    "        '--loss_function': 'logistic',\n",
    "        '-b': 27,\n",
    "}\n",
    "vw = VowpalWabbitClassifier(working_dir = '.input', debug = True, fit_params = fit_params)\n",
    "vw.fit('.input/train.vw')"
   ]
  },
  {
   "cell_type": "code",
   "execution_count": 8,
   "metadata": {},
   "outputs": [
    {
     "name": "stdout",
     "output_type": "stream",
     "text": [
      "only testing\n",
      "predictions = .input\\d6cdb542-e6d1-11e8-84f4-0013efb00144_predictions.txt\n",
      "Num weight bits = 27\n",
      "learning rate = 0.5\n",
      "initial_t = 0\n",
      "power_t = 0.5\n",
      "using no cache\n",
      "Reading datafile = .input/test.vw\n",
      "num sources = 1\n",
      "average  since         example        example  current  current  current\n",
      "loss     last          counter         weight    label  predict features\n",
      "    n.a.     n.a.            1            1.0  unknown  -7.7824       13\n",
      "    n.a.     n.a.            2            2.0  unknown  -4.7824        9\n",
      "    n.a.     n.a.            4            4.0  unknown  -9.6990       11\n",
      "    n.a.     n.a.            8            8.0  unknown  -4.8783       11\n",
      "    n.a.     n.a.           16           16.0  unknown  -4.8681        8\n",
      "    n.a.     n.a.           32           32.0  unknown  -3.7108        8\n",
      "    n.a.     n.a.           64           64.0  unknown  -6.3903       11\n",
      "    n.a.     n.a.          128          128.0  unknown  -3.8323       13\n",
      "    n.a.     n.a.          256          256.0  unknown  -5.6585       13\n",
      "    n.a.     n.a.          512          512.0  unknown  -4.5898       21\n",
      "    n.a.     n.a.         1024         1024.0  unknown  -4.7748        7\n",
      "    n.a.     n.a.         2048         2048.0  unknown  -8.2748       15\n",
      "    n.a.     n.a.         4096         4096.0  unknown   4.6097       35\n",
      "    n.a.     n.a.         8192         8192.0  unknown  -4.9528       12\n",
      "    n.a.     n.a.        16384        16384.0  unknown  -6.9530       13\n",
      "    n.a.     n.a.        32768        32768.0  unknown  -4.8904       13\n",
      "    n.a.     n.a.        65536        65536.0  unknown  -1.7602       19\n",
      "    n.a.     n.a.       131072       131072.0  unknown  -4.7242        8\n",
      "    n.a.     n.a.       262144       262144.0  unknown  -4.2782       10\n",
      "\n",
      "finished run\n",
      "number of examples per pass = 326531\n",
      "passes used = 1\n",
      "weighted example sum = 326531.000000\n",
      "weighted label sum = 0.000000\n",
      "average loss = n.a.\n",
      "total feature number = 3559382\n",
      "\n"
     ]
    }
   ],
   "source": [
    "quora_test_pred = vw.predict('.input/test.vw')"
   ]
  },
  {
   "cell_type": "code",
   "execution_count": 9,
   "metadata": {},
   "outputs": [
    {
     "data": {
      "image/png": "[encoded data removed]",
      "text/plain": [
       "<Figure size 432x288 with 1 Axes>"
      ]
     },
     "metadata": {
      "needs_background": "light"
     },
     "output_type": "display_data"
    }
   ],
   "source": [
    "quora_test_prediction = vw.predict_proba_\n",
    "\n",
    "auc = roc_auc_score(quora_test_labels, quora_test_prediction)\n",
    "curve = roc_curve(quora_test_labels, quora_test_prediction)\n",
    "\n",
    "\n",
    "plt.plot(curve[0], curve[1]);\n",
    "plt.plot([0,1], [0,1])\n",
    "plt.xlabel('FPR'); plt.ylabel('TPR'); plt.title('test AUC = %f' % (auc)); plt.axis([-0.05,1.05,-0.05,1.05]);"
   ]
  },
  {
   "cell_type": "code",
   "execution_count": 10,
   "metadata": {},
   "outputs": [
    {
     "name": "stdout",
     "output_type": "stream",
     "text": [
      "accuracy 0.9534255553071531\n",
      "precision 0.6998394863563403\n",
      "recall 0.41546717488339435\n",
      "f1 0.5213997985901309\n"
     ]
    },
    {
     "data": {
      "text/plain": [
       "array([[303039,   3553],\n",
       "       [ 11655,   8284]], dtype=int64)"
      ]
     },
     "execution_count": 10,
     "metadata": {},
     "output_type": "execute_result"
    }
   ],
   "source": [
    "print('accuracy', accuracy_score(quora_test_labels, quora_test_pred))\n",
    "print('precision', precision_score(quora_test_labels, quora_test_pred))\n",
    "print('recall', recall_score(quora_test_labels, quora_test_pred))\n",
    "print('f1', f1_score(quora_test_labels, quora_test_pred))\n",
    "confusion_matrix(quora_test_labels, quora_test_pred)"
   ]
  },
  {
   "cell_type": "code",
   "execution_count": null,
   "metadata": {},
   "outputs": [],
   "source": []
  }
 ],
 "metadata": {
  "kernelspec": {
   "display_name": "Python 3",
   "language": "python",
   "name": "python3"
  },
  "language_info": {
   "codemirror_mode": {
    "name": "ipython",
    "version": 3
   },
   "file_extension": ".py",
   "mimetype": "text/x-python",
   "name": "python",
   "nbconvert_exporter": "python",
   "pygments_lexer": "ipython3",
   "version": "3.7.1"
  }
 },
 "nbformat": 4,
 "nbformat_minor": 2
}
