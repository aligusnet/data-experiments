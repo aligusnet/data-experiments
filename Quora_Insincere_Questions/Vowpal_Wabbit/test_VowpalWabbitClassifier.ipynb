{
 "cells": [
  {
   "cell_type": "code",
   "execution_count": null,
   "metadata": {},
   "outputs": [],
   "source": [
    "import re\n",
    "import numpy as np\n",
    "import pandas as pd\n",
    "from sklearn.model_selection import train_test_split\n",
    "from sklearn.metrics import roc_auc_score, roc_curve, accuracy_score\n",
    "from sklearn.metrics import confusion_matrix\n",
    "from sklearn.metrics import precision_score, recall_score, f1_score\n",
    "import matplotlib.pyplot as plt\n",
    "%matplotlib inline"
   ]
  },
  {
   "cell_type": "code",
   "execution_count": null,
   "metadata": {},
   "outputs": [],
   "source": [
    "import sys\n",
    "import os\n",
    "sys.path.append(os.path.join('..', '..'))\n",
    "from vowpal_wabbit import VowpalWabbitClassifier"
   ]
  },
  {
   "cell_type": "code",
   "execution_count": null,
   "metadata": {},
   "outputs": [],
   "source": [
    "quora = pd.read_csv('../data/.input/train.csv')"
   ]
  },
  {
   "cell_type": "code",
   "execution_count": null,
   "metadata": {},
   "outputs": [],
   "source": [
    "quora_train, quora_test = train_test_split(quora, random_state=42)\n",
    "quora_train_data = quora_train.question_text\n",
    "quora_train_labels = quora_train.target * 2.0 - 1.0\n",
    "quora_test_data = quora_test.question_text\n",
    "quora_test_labels = quora_test.target * 2.0 - 1.0"
   ]
  },
  {
   "cell_type": "code",
   "execution_count": null,
   "metadata": {},
   "outputs": [],
   "source": [
    "def to_vw_format(document, label=None):\n",
    "    return str(label or '') + ' |text ' + ' '.join(re.findall('\\w{3,}', document.lower())) + '\\n'"
   ]
  },
  {
   "cell_type": "code",
   "execution_count": null,
   "metadata": {},
   "outputs": [],
   "source": [
    "!!mkdir .input\n",
    "with open('.input/train.vw', 'w', encoding='utf-8') as vw_train_data:\n",
    "    for text, target in zip(quora_train_data, quora_train_labels):\n",
    "        vw_train_data.write(to_vw_format(text, target))\n",
    "with open('.input/test.vw', 'w', encoding='utf-8') as vw_test_data:\n",
    "    for text in quora_test_data:\n",
    "        vw_test_data.write(to_vw_format(text))"
   ]
  },
  {
   "cell_type": "code",
   "execution_count": null,
   "metadata": {},
   "outputs": [],
   "source": [
    "fit_params = {\n",
    "        '--loss_function': 'logistic',\n",
    "        '-b': 27,\n",
    "}\n",
    "vw = VowpalWabbitClassifier(working_dir = '.input', debug = True, fit_params = fit_params)\n",
    "vw.fit('.input/train.vw')"
   ]
  },
  {
   "cell_type": "code",
   "execution_count": null,
   "metadata": {},
   "outputs": [],
   "source": [
    "quora_test_pred = vw.predict('.input/test.vw')"
   ]
  },
  {
   "cell_type": "code",
   "execution_count": null,
   "metadata": {},
   "outputs": [],
   "source": [
    "quora_test_prediction = vw.predict_proba_\n",
    "\n",
    "auc = roc_auc_score(quora_test_labels, quora_test_prediction)\n",
    "curve = roc_curve(quora_test_labels, quora_test_prediction)\n",
    "\n",
    "\n",
    "plt.plot(curve[0], curve[1]);\n",
    "plt.plot([0,1], [0,1])\n",
    "plt.xlabel('FPR'); plt.ylabel('TPR'); plt.title('test AUC = %f' % (auc)); plt.axis([-0.05,1.05,-0.05,1.05]);"
   ]
  },
  {
   "cell_type": "code",
   "execution_count": null,
   "metadata": {},
   "outputs": [],
   "source": [
    "print('accuracy', accuracy_score(quora_test_labels, quora_test_pred))\n",
    "print('precision', precision_score(quora_test_labels, quora_test_pred))\n",
    "print('recall', recall_score(quora_test_labels, quora_test_pred))\n",
    "print('f1', f1_score(quora_test_labels, quora_test_pred))\n",
    "confusion_matrix(quora_test_labels, quora_test_pred)"
   ]
  },
  {
   "cell_type": "code",
   "execution_count": null,
   "metadata": {},
   "outputs": [],
   "source": []
  }
 ],
 "metadata": {
  "kernelspec": {
   "display_name": "Python 3",
   "language": "python",
   "name": "python3"
  },
  "language_info": {
   "codemirror_mode": {
    "name": "ipython",
    "version": 3
   },
   "file_extension": ".py",
   "mimetype": "text/x-python",
   "name": "python",
   "nbconvert_exporter": "python",
   "pygments_lexer": "ipython3",
   "version": "3.7.1"
  }
 },
 "nbformat": 4,
 "nbformat_minor": 2
}
