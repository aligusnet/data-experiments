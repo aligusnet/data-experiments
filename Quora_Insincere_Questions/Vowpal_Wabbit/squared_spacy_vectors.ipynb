{
 "cells": [
  {
   "cell_type": "markdown",
   "metadata": {},
   "source": [
    "# Quora Questions Classification Based on Word Vectors\n",
    "## using Spacy with vectors only statistical model en_vectors_web_lg\n",
    "## and Vowpal Wabbit with Squared loss function"
   ]
  },
  {
   "cell_type": "code",
   "execution_count": 1,
   "metadata": {},
   "outputs": [],
   "source": [
    "import os\n",
    "import numpy as np\n",
    "import pandas as pd\n",
    "from sklearn.model_selection import train_test_split\n",
    "from sklearn.metrics import roc_auc_score, roc_curve, accuracy_score\n",
    "from sklearn.metrics import confusion_matrix\n",
    "from sklearn.metrics import precision_score, recall_score, f1_score\n",
    "import matplotlib.pyplot as plt\n",
    "%matplotlib inline"
   ]
  },
  {
   "cell_type": "code",
   "execution_count": 2,
   "metadata": {},
   "outputs": [],
   "source": [
    "WORKING_DIR = os.path.join('.input', 'squared_spacy_vectors')"
   ]
  },
  {
   "cell_type": "code",
   "execution_count": 3,
   "metadata": {},
   "outputs": [],
   "source": [
    "quora = pd.read_csv('../data/.input/train.csv')"
   ]
  },
  {
   "cell_type": "code",
   "execution_count": 4,
   "metadata": {},
   "outputs": [
    {
     "data": {
      "text/html": [
       "<div>\n",
       "<style scoped>\n",
       "    .dataframe tbody tr th:only-of-type {\n",
       "        vertical-align: middle;\n",
       "    }\n",
       "\n",
       "    .dataframe tbody tr th {\n",
       "        vertical-align: top;\n",
       "    }\n",
       "\n",
       "    .dataframe thead th {\n",
       "        text-align: right;\n",
       "    }\n",
       "</style>\n",
       "<table border=\"1\" class=\"dataframe\">\n",
       "  <thead>\n",
       "    <tr style=\"text-align: right;\">\n",
       "      <th></th>\n",
       "      <th>qid</th>\n",
       "      <th>question_text</th>\n",
       "      <th>target</th>\n",
       "    </tr>\n",
       "  </thead>\n",
       "  <tbody>\n",
       "    <tr>\n",
       "      <th>0</th>\n",
       "      <td>00002165364db923c7e6</td>\n",
       "      <td>How did Quebec nationalists see their province...</td>\n",
       "      <td>0</td>\n",
       "    </tr>\n",
       "    <tr>\n",
       "      <th>1</th>\n",
       "      <td>000032939017120e6e44</td>\n",
       "      <td>Do you have an adopted dog, how would you enco...</td>\n",
       "      <td>0</td>\n",
       "    </tr>\n",
       "    <tr>\n",
       "      <th>2</th>\n",
       "      <td>0000412ca6e4628ce2cf</td>\n",
       "      <td>Why does velocity affect time? Does velocity a...</td>\n",
       "      <td>0</td>\n",
       "    </tr>\n",
       "    <tr>\n",
       "      <th>3</th>\n",
       "      <td>000042bf85aa498cd78e</td>\n",
       "      <td>How did Otto von Guericke used the Magdeburg h...</td>\n",
       "      <td>0</td>\n",
       "    </tr>\n",
       "    <tr>\n",
       "      <th>4</th>\n",
       "      <td>0000455dfa3e01eae3af</td>\n",
       "      <td>Can I convert montra helicon D to a mountain b...</td>\n",
       "      <td>0</td>\n",
       "    </tr>\n",
       "    <tr>\n",
       "      <th>5</th>\n",
       "      <td>00004f9a462a357c33be</td>\n",
       "      <td>Is Gaza slowly becoming Auschwitz, Dachau or T...</td>\n",
       "      <td>0</td>\n",
       "    </tr>\n",
       "    <tr>\n",
       "      <th>6</th>\n",
       "      <td>00005059a06ee19e11ad</td>\n",
       "      <td>Why does Quora automatically ban conservative ...</td>\n",
       "      <td>0</td>\n",
       "    </tr>\n",
       "    <tr>\n",
       "      <th>7</th>\n",
       "      <td>0000559f875832745e2e</td>\n",
       "      <td>Is it crazy if I wash or wipe my groceries off...</td>\n",
       "      <td>0</td>\n",
       "    </tr>\n",
       "    <tr>\n",
       "      <th>8</th>\n",
       "      <td>00005bd3426b2d0c8305</td>\n",
       "      <td>Is there such a thing as dressing moderately, ...</td>\n",
       "      <td>0</td>\n",
       "    </tr>\n",
       "    <tr>\n",
       "      <th>9</th>\n",
       "      <td>00006e6928c5df60eacb</td>\n",
       "      <td>Is it just me or have you ever been in this ph...</td>\n",
       "      <td>0</td>\n",
       "    </tr>\n",
       "  </tbody>\n",
       "</table>\n",
       "</div>"
      ],
      "text/plain": [
       "                    qid                                      question_text  \\\n",
       "0  00002165364db923c7e6  How did Quebec nationalists see their province...   \n",
       "1  000032939017120e6e44  Do you have an adopted dog, how would you enco...   \n",
       "2  0000412ca6e4628ce2cf  Why does velocity affect time? Does velocity a...   \n",
       "3  000042bf85aa498cd78e  How did Otto von Guericke used the Magdeburg h...   \n",
       "4  0000455dfa3e01eae3af  Can I convert montra helicon D to a mountain b...   \n",
       "5  00004f9a462a357c33be  Is Gaza slowly becoming Auschwitz, Dachau or T...   \n",
       "6  00005059a06ee19e11ad  Why does Quora automatically ban conservative ...   \n",
       "7  0000559f875832745e2e  Is it crazy if I wash or wipe my groceries off...   \n",
       "8  00005bd3426b2d0c8305  Is there such a thing as dressing moderately, ...   \n",
       "9  00006e6928c5df60eacb  Is it just me or have you ever been in this ph...   \n",
       "\n",
       "   target  \n",
       "0       0  \n",
       "1       0  \n",
       "2       0  \n",
       "3       0  \n",
       "4       0  \n",
       "5       0  \n",
       "6       0  \n",
       "7       0  \n",
       "8       0  \n",
       "9       0  "
      ]
     },
     "execution_count": 4,
     "metadata": {},
     "output_type": "execute_result"
    }
   ],
   "source": [
    "quora.head(10)"
   ]
  },
  {
   "cell_type": "code",
   "execution_count": 5,
   "metadata": {},
   "outputs": [],
   "source": [
    "quora_train, quora_test = train_test_split(quora, random_state=42)\n",
    "quora_train_data = quora_train.question_text\n",
    "quora_train_labels = quora_train.target * 2.0 - 1.0\n",
    "quora_test_data = quora_test.question_text\n",
    "quora_test_labels = quora_test.target * 2.0 - 1.0"
   ]
  },
  {
   "cell_type": "code",
   "execution_count": 8,
   "metadata": {},
   "outputs": [
    {
     "name": "stdout",
     "output_type": "stream",
     "text": [
      "Wall time: 28.8 s\n"
     ]
    }
   ],
   "source": [
    "%%time\n",
    "\n",
    "import spacy\n",
    "nlp = spacy.load('en_vectors_web_lg')"
   ]
  },
  {
   "cell_type": "code",
   "execution_count": 12,
   "metadata": {},
   "outputs": [
    {
     "data": {
      "text/plain": [
       "'-1.0 |n f0:-0.011226640082895756 f1:0.0914510041475296 f2:-0.168460875'"
      ]
     },
     "execution_count": 12,
     "metadata": {},
     "output_type": "execute_result"
    }
   ],
   "source": [
    "def vectorize_text(text):\n",
    "    doc = nlp(text)\n",
    "    return doc.vector\n",
    "\n",
    "def to_vw_format(document, label=None):\n",
    "    vector = vectorize_text(document)\n",
    "    values = []\n",
    "    for index, value in enumerate(vector):\n",
    "        values.append('f{}:{}'.format(index, value))\n",
    "    return str(label or '') + ' |n ' + ' '.join(values) + '\\n'\n",
    "\n",
    "to_vw_format(quora_train_data.iloc[0], quora_train_labels[0])[:70]"
   ]
  },
  {
   "cell_type": "code",
   "execution_count": 13,
   "metadata": {},
   "outputs": [],
   "source": [
    "!!mkdir $WORKING_DIR\n",
    "trainDataPath = os.path.join(WORKING_DIR, 'train.vw')\n",
    "testDataPath = os.path.join(WORKING_DIR, 'test.vw')\n",
    "modelPath = os.path.join(WORKING_DIR, 'model.vw')\n",
    "predictionsPath = os.path.join(WORKING_DIR, 'test_predictions.txt')\n",
    "cachePath = os.path.join(WORKING_DIR, 'cache')"
   ]
  },
  {
   "cell_type": "code",
   "execution_count": 14,
   "metadata": {},
   "outputs": [
    {
     "name": "stdout",
     "output_type": "stream",
     "text": [
      "Wall time: 31min 53s\n"
     ]
    }
   ],
   "source": [
    "%%time\n",
    "\n",
    "with open(trainDataPath, 'w', encoding='utf-8') as vw_train_data:\n",
    "    for text, target in zip(quora_train_data, quora_train_labels):\n",
    "        vw_train_data.write(to_vw_format(text, target))\n",
    "with open(testDataPath, 'w', encoding='utf-8') as vw_test_data:\n",
    "    for text, target in zip(quora_test_data, quora_test_labels):\n",
    "        vw_test_data.write(to_vw_format(text, target))"
   ]
  },
  {
   "cell_type": "code",
   "execution_count": 72,
   "metadata": {},
   "outputs": [
    {
     "data": {
      "text/plain": [
       "['final_regressor = .input\\\\logistic_spacy_vectors\\\\model.vw',\n",
       " 'Num weight bits = 18',\n",
       " 'learning rate = 0.5',\n",
       " 'initial_t = 0',\n",
       " 'power_t = 0.5',\n",
       " 'using cache_file = .input\\\\logistic_spacy_vectors\\\\cache',\n",
       " 'ignoring text input in favor of cache input',\n",
       " 'num sources = 1',\n",
       " 'average  since         example        example  current  current  current',\n",
       " 'loss     last          counter         weight    label  predict features',\n",
       " '1.000000 1.000000            1            1.0  -1.0000   0.0000      301',\n",
       " '0.500000 0.000000            2            2.0  -1.0000  -1.0000      301',\n",
       " '0.565251 0.630501            4            4.0  -1.0000  -0.4891      301',\n",
       " '0.317341 0.069431            8            8.0  -1.0000  -0.8639      301',\n",
       " '0.458974 0.600607           16           16.0  -1.0000  -1.0000      301',\n",
       " '0.240016 0.021057           32           32.0  -1.0000  -1.0000      301',\n",
       " '0.190559 0.141102           64           64.0  -1.0000  -0.7999      301',\n",
       " '0.181747 0.172934          128          128.0  -1.0000  -0.8595      301',\n",
       " '0.197242 0.212737          256          256.0  -1.0000  -0.3672      301',\n",
       " '0.166317 0.135393          512          512.0  -1.0000  -1.0000      301',\n",
       " '0.182623 0.198930         1024         1024.0  -1.0000  -1.0000      301',\n",
       " '0.189230 0.195836         2048         2048.0  -1.0000  -1.0000      301',\n",
       " '0.189345 0.189461         4096         4096.0  -1.0000  -0.9922      301',\n",
       " '0.176373 0.163401         8192         8192.0  -1.0000   0.0311      301',\n",
       " '0.169432 0.162490        16384        16384.0  -1.0000  -0.9195      301',\n",
       " '0.163635 0.157838        32768        32768.0  -1.0000  -1.0000      301',\n",
       " '0.159619 0.155604        65536        65536.0  -1.0000  -0.6301      301',\n",
       " '0.159951 0.160282       131072       131072.0  -1.0000  -1.0000      301',\n",
       " '0.160075 0.160198       262144       262144.0  -1.0000  -1.0000      301',\n",
       " '0.157540 0.155004       524288       524288.0  -1.0000  -1.0000      301',\n",
       " '',\n",
       " 'finished run',\n",
       " 'number of examples per pass = 979591',\n",
       " 'passes used = 1',\n",
       " 'weighted example sum = 979591.000000',\n",
       " 'weighted label sum = -857849.000000',\n",
       " 'average loss = 0.157116',\n",
       " 'best constant = -0.875722',\n",
       " \"best constant's loss = 0.233112\",\n",
       " 'total feature number = 294856878']"
      ]
     },
     "execution_count": 72,
     "metadata": {},
     "output_type": "execute_result"
    }
   ],
   "source": [
    "!!vw -d $trainDataPath --cache_file $cachePath --loss_function squared -f $modelPath"
   ]
  },
  {
   "cell_type": "code",
   "execution_count": 73,
   "metadata": {
    "scrolled": false
   },
   "outputs": [
    {
     "data": {
      "text/plain": [
       "['only testing',\n",
       " 'predictions = .input\\\\logistic_spacy_vectors\\\\test_predictions.txt',\n",
       " 'Num weight bits = 18',\n",
       " 'learning rate = 0.5',\n",
       " 'initial_t = 0',\n",
       " 'power_t = 0.5',\n",
       " 'using no cache',\n",
       " 'Reading datafile = .input\\\\logistic_spacy_vectors\\\\test.vw',\n",
       " 'num sources = 1',\n",
       " 'average  since         example        example  current  current  current',\n",
       " 'loss     last          counter         weight    label  predict features',\n",
       " '0.000000 0.000000            1            1.0  -1.0000  -1.0000      301',\n",
       " '0.000000 0.000000            2            2.0  -1.0000  -1.0000      301',\n",
       " '0.000000 0.000000            4            4.0  -1.0000  -1.0000      301',\n",
       " '0.000000 0.000000            8            8.0  -1.0000  -1.0000      301',\n",
       " '0.006068 0.012136           16           16.0  -1.0000  -1.0000      301',\n",
       " '0.031008 0.055948           32           32.0  -1.0000  -1.0000      301',\n",
       " '0.054997 0.078986           64           64.0  -1.0000  -1.0000      301',\n",
       " '0.120186 0.185374          128          128.0  -1.0000  -1.0000      301',\n",
       " '0.168567 0.216948          256          256.0  -1.0000  -1.0000      301',\n",
       " '0.170582 0.172597          512          512.0   1.0000  -0.5420      301',\n",
       " '0.175857 0.181132         1024         1024.0  -1.0000  -1.0000      301',\n",
       " '0.173990 0.172123         2048         2048.0  -1.0000  -1.0000      301',\n",
       " '0.159293 0.144596         4096         4096.0   1.0000  -0.1340      301',\n",
       " '0.167688 0.176083         8192         8192.0  -1.0000  -1.0000      301',\n",
       " '0.159310 0.150933        16384        16384.0  -1.0000  -1.0000      301',\n",
       " '0.155019 0.150728        32768        32768.0  -1.0000  -1.0000      301',\n",
       " '0.151924 0.148828        65536        65536.0  -1.0000  -0.7526      301',\n",
       " '0.151277 0.150631       131072       131072.0  -1.0000  -1.0000      301',\n",
       " '0.152583 0.153888       262144       262144.0  -1.0000  -1.0000      301',\n",
       " '',\n",
       " 'finished run',\n",
       " 'number of examples per pass = 326531',\n",
       " 'passes used = 1',\n",
       " 'weighted example sum = 326531.000000',\n",
       " 'weighted label sum = -286653.000000',\n",
       " 'average loss = 0.152869',\n",
       " 'best constant = -0.877874',\n",
       " \"best constant's loss = 0.229338\",\n",
       " 'total feature number = 98285825']"
      ]
     },
     "execution_count": 73,
     "metadata": {},
     "output_type": "execute_result"
    }
   ],
   "source": [
    "!!vw -i $modelPath -t -d $testDataPath -p $predictionsPath"
   ]
  },
  {
   "cell_type": "code",
   "execution_count": 74,
   "metadata": {
    "scrolled": true
   },
   "outputs": [
    {
     "data": {
      "image/png": "[encoded data removed]",
      "text/plain": [
       "<Figure size 432x288 with 1 Axes>"
      ]
     },
     "metadata": {
      "needs_background": "light"
     },
     "output_type": "display_data"
    }
   ],
   "source": [
    "with open(predictionsPath) as pred_file:\n",
    "    quora_test_prediction = [float(label) \n",
    "                             for label in pred_file.readlines()]\n",
    "\n",
    "auc = roc_auc_score(quora_test_labels, quora_test_prediction)\n",
    "curve = roc_curve(quora_test_labels, quora_test_prediction)\n",
    "\n",
    "\n",
    "plt.plot(curve[0], curve[1]);\n",
    "plt.plot([0,1], [0,1])\n",
    "plt.xlabel('FPR'); plt.ylabel('TPR'); plt.title('test AUC = %f' % (auc)); plt.axis([-0.05,1.05,-0.05,1.05]);\n"
   ]
  },
  {
   "cell_type": "code",
   "execution_count": 75,
   "metadata": {},
   "outputs": [
    {
     "name": "stdout",
     "output_type": "stream",
     "text": [
      "accuracy 0.9468718130897219\n",
      "precision 0.6745251246126903\n",
      "recall 0.25111590350569235\n",
      "f1 0.3659820188582706\n"
     ]
    },
    {
     "data": {
      "text/plain": [
       "array([[304176,   2416],\n",
       "       [ 14932,   5007]], dtype=int64)"
      ]
     },
     "execution_count": 75,
     "metadata": {},
     "output_type": "execute_result"
    }
   ],
   "source": [
    "quora_test_pred = list(map(lambda x: -1.0 if x < 0.0 else 1.0, quora_test_prediction))\n",
    "print('accuracy', accuracy_score(quora_test_labels, quora_test_pred))\n",
    "print('precision', precision_score(quora_test_labels, quora_test_pred))\n",
    "print('recall', recall_score(quora_test_labels, quora_test_pred))\n",
    "print('f1', f1_score(quora_test_labels, quora_test_pred))\n",
    "confusion_matrix(quora_test_labels, quora_test_pred)"
   ]
  },
  {
   "cell_type": "code",
   "execution_count": null,
   "metadata": {},
   "outputs": [],
   "source": []
  }
 ],
 "metadata": {
  "kernelspec": {
   "display_name": "Python 3",
   "language": "python",
   "name": "python3"
  },
  "language_info": {
   "codemirror_mode": {
    "name": "ipython",
    "version": 3
   },
   "file_extension": ".py",
   "mimetype": "text/x-python",
   "name": "python",
   "nbconvert_exporter": "python",
   "pygments_lexer": "ipython3",
   "version": "3.7.1"
  }
 },
 "nbformat": 4,
 "nbformat_minor": 2
}
