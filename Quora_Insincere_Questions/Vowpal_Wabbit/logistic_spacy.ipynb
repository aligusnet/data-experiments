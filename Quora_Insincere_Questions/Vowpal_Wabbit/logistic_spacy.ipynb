{
 "cells": [
  {
   "cell_type": "code",
   "execution_count": 1,
   "metadata": {},
   "outputs": [],
   "source": [
    "import os\n",
    "import numpy as np\n",
    "import pandas as pd\n",
    "from sklearn.model_selection import train_test_split\n",
    "from sklearn.metrics import roc_auc_score, roc_curve, accuracy_score\n",
    "from sklearn.metrics import confusion_matrix\n",
    "from sklearn.metrics import precision_score, recall_score, f1_score\n",
    "import matplotlib.pyplot as plt\n",
    "%matplotlib inline"
   ]
  },
  {
   "cell_type": "code",
   "execution_count": 2,
   "metadata": {},
   "outputs": [],
   "source": [
    "WORKING_DIR = os.path.join('.input', 'logistic_spacy')"
   ]
  },
  {
   "cell_type": "code",
   "execution_count": 3,
   "metadata": {},
   "outputs": [],
   "source": [
    "quora = pd.read_csv('../data/.input/train.csv')"
   ]
  },
  {
   "cell_type": "code",
   "execution_count": 4,
   "metadata": {},
   "outputs": [
    {
     "data": {
      "text/html": [
       "<div>\n",
       "<style scoped>\n",
       "    .dataframe tbody tr th:only-of-type {\n",
       "        vertical-align: middle;\n",
       "    }\n",
       "\n",
       "    .dataframe tbody tr th {\n",
       "        vertical-align: top;\n",
       "    }\n",
       "\n",
       "    .dataframe thead th {\n",
       "        text-align: right;\n",
       "    }\n",
       "</style>\n",
       "<table border=\"1\" class=\"dataframe\">\n",
       "  <thead>\n",
       "    <tr style=\"text-align: right;\">\n",
       "      <th></th>\n",
       "      <th>qid</th>\n",
       "      <th>question_text</th>\n",
       "      <th>target</th>\n",
       "    </tr>\n",
       "  </thead>\n",
       "  <tbody>\n",
       "    <tr>\n",
       "      <th>0</th>\n",
       "      <td>00002165364db923c7e6</td>\n",
       "      <td>How did Quebec nationalists see their province...</td>\n",
       "      <td>0</td>\n",
       "    </tr>\n",
       "    <tr>\n",
       "      <th>1</th>\n",
       "      <td>000032939017120e6e44</td>\n",
       "      <td>Do you have an adopted dog, how would you enco...</td>\n",
       "      <td>0</td>\n",
       "    </tr>\n",
       "    <tr>\n",
       "      <th>2</th>\n",
       "      <td>0000412ca6e4628ce2cf</td>\n",
       "      <td>Why does velocity affect time? Does velocity a...</td>\n",
       "      <td>0</td>\n",
       "    </tr>\n",
       "    <tr>\n",
       "      <th>3</th>\n",
       "      <td>000042bf85aa498cd78e</td>\n",
       "      <td>How did Otto von Guericke used the Magdeburg h...</td>\n",
       "      <td>0</td>\n",
       "    </tr>\n",
       "    <tr>\n",
       "      <th>4</th>\n",
       "      <td>0000455dfa3e01eae3af</td>\n",
       "      <td>Can I convert montra helicon D to a mountain b...</td>\n",
       "      <td>0</td>\n",
       "    </tr>\n",
       "    <tr>\n",
       "      <th>5</th>\n",
       "      <td>00004f9a462a357c33be</td>\n",
       "      <td>Is Gaza slowly becoming Auschwitz, Dachau or T...</td>\n",
       "      <td>0</td>\n",
       "    </tr>\n",
       "    <tr>\n",
       "      <th>6</th>\n",
       "      <td>00005059a06ee19e11ad</td>\n",
       "      <td>Why does Quora automatically ban conservative ...</td>\n",
       "      <td>0</td>\n",
       "    </tr>\n",
       "    <tr>\n",
       "      <th>7</th>\n",
       "      <td>0000559f875832745e2e</td>\n",
       "      <td>Is it crazy if I wash or wipe my groceries off...</td>\n",
       "      <td>0</td>\n",
       "    </tr>\n",
       "    <tr>\n",
       "      <th>8</th>\n",
       "      <td>00005bd3426b2d0c8305</td>\n",
       "      <td>Is there such a thing as dressing moderately, ...</td>\n",
       "      <td>0</td>\n",
       "    </tr>\n",
       "    <tr>\n",
       "      <th>9</th>\n",
       "      <td>00006e6928c5df60eacb</td>\n",
       "      <td>Is it just me or have you ever been in this ph...</td>\n",
       "      <td>0</td>\n",
       "    </tr>\n",
       "  </tbody>\n",
       "</table>\n",
       "</div>"
      ],
      "text/plain": [
       "                    qid                                      question_text  \\\n",
       "0  00002165364db923c7e6  How did Quebec nationalists see their province...   \n",
       "1  000032939017120e6e44  Do you have an adopted dog, how would you enco...   \n",
       "2  0000412ca6e4628ce2cf  Why does velocity affect time? Does velocity a...   \n",
       "3  000042bf85aa498cd78e  How did Otto von Guericke used the Magdeburg h...   \n",
       "4  0000455dfa3e01eae3af  Can I convert montra helicon D to a mountain b...   \n",
       "5  00004f9a462a357c33be  Is Gaza slowly becoming Auschwitz, Dachau or T...   \n",
       "6  00005059a06ee19e11ad  Why does Quora automatically ban conservative ...   \n",
       "7  0000559f875832745e2e  Is it crazy if I wash or wipe my groceries off...   \n",
       "8  00005bd3426b2d0c8305  Is there such a thing as dressing moderately, ...   \n",
       "9  00006e6928c5df60eacb  Is it just me or have you ever been in this ph...   \n",
       "\n",
       "   target  \n",
       "0       0  \n",
       "1       0  \n",
       "2       0  \n",
       "3       0  \n",
       "4       0  \n",
       "5       0  \n",
       "6       0  \n",
       "7       0  \n",
       "8       0  \n",
       "9       0  "
      ]
     },
     "execution_count": 4,
     "metadata": {},
     "output_type": "execute_result"
    }
   ],
   "source": [
    "quora.head(10)"
   ]
  },
  {
   "cell_type": "code",
   "execution_count": 5,
   "metadata": {},
   "outputs": [],
   "source": [
    "quora_train, quora_test = train_test_split(quora, random_state=42)\n",
    "quora_train_data = quora_train.question_text\n",
    "quora_train_labels = quora_train.target * 2.0 - 1.0\n",
    "quora_test_data = quora_test.question_text\n",
    "quora_test_labels = quora_test.target * 2.0 - 1.0"
   ]
  },
  {
   "cell_type": "code",
   "execution_count": 7,
   "metadata": {},
   "outputs": [],
   "source": [
    "import spacy\n",
    "nlp = spacy.load('en', disable=[\"tagger\", \"parser\", \"ner\"])\n",
    "\n",
    "def clean_text(text):\n",
    "    doc = nlp(text)\n",
    "    return \" \".join([token.lemma_.lower() for token in doc\n",
    "                     if not token.is_punct and not token.is_stop and token.is_alpha])\n",
    "\n",
    "def to_vw_format(document, label=None):\n",
    "    return str(label or '') + ' |text ' + clean_text(document) + '\\n'"
   ]
  },
  {
   "cell_type": "code",
   "execution_count": 40,
   "metadata": {},
   "outputs": [],
   "source": [
    "!!mkdir $WORKING_DIR\n",
    "trainDataPath = os.path.join(WORKING_DIR, 'train.vw')\n",
    "testDataPath = os.path.join(WORKING_DIR, 'test.vw')\n",
    "modelPath = os.path.join(WORKING_DIR, 'model.vw')\n",
    "predictionsPath = os.path.join(WORKING_DIR, 'test_predictions.txt')\n",
    "cachePath = os.path.join(WORKING_DIR, 'cache')"
   ]
  },
  {
   "cell_type": "code",
   "execution_count": 9,
   "metadata": {},
   "outputs": [],
   "source": [
    "with open(trainDataPath, 'w', encoding='utf-8') as vw_train_data:\n",
    "    for text, target in zip(quora_train_data, quora_train_labels):\n",
    "        vw_train_data.write(to_vw_format(text, target))\n",
    "with open(testDataPath, 'w', encoding='utf-8') as vw_test_data:\n",
    "    for text, target in zip(quora_test_data, quora_test_labels):\n",
    "        vw_test_data.write(to_vw_format(text, target))"
   ]
  },
  {
   "cell_type": "code",
   "execution_count": 41,
   "metadata": {},
   "outputs": [
    {
     "data": {
      "text/plain": [
       "['final_regressor = .input\\\\logistic_spacy\\\\model.vw',\n",
       " 'Num weight bits = 27',\n",
       " 'learning rate = 0.5',\n",
       " 'initial_t = 0',\n",
       " 'power_t = 0.5',\n",
       " 'decay_learning_rate = 1',\n",
       " 'using cache_file = .input\\\\logistic_spacy\\\\cache',\n",
       " 'ignoring text input in favor of cache input',\n",
       " 'num sources = 1',\n",
       " 'average  since         example        example  current  current  current',\n",
       " 'loss     last          counter         weight    label  predict features',\n",
       " '0.693147 0.693147            1            1.0  -1.0000   0.0000       10',\n",
       " '0.666067 0.638986            2            2.0  -1.0000  -0.1114        4',\n",
       " '0.606753 0.547440            4            4.0  -1.0000  -0.4178        6',\n",
       " '0.509260 0.411767            8            8.0  -1.0000  -1.3184       12',\n",
       " '0.492970 0.476680           16           16.0  -1.0000  -0.9559        4',\n",
       " '0.364842 0.236714           32           32.0  -1.0000  -1.5040        4',\n",
       " '0.303559 0.242275           64           64.0  -1.0000  -1.9602        3',\n",
       " '0.270713 0.237867          128          128.0  -1.0000  -3.7164        9',\n",
       " '0.227635 0.184557          256          256.0  -1.0000  -2.7154        9',\n",
       " '0.208267 0.188900          512          512.0  -1.0000  -4.1308        8',\n",
       " '0.204027 0.199786         1024         1024.0  -1.0000  -3.4375        7',\n",
       " '0.205652 0.207278         2048         2048.0  -1.0000  -5.5705       16',\n",
       " '0.198872 0.192091         4096         4096.0  -1.0000  -3.6949        7',\n",
       " '0.188884 0.178896         8192         8192.0  -1.0000  -4.6369        8',\n",
       " '0.178001 0.167118        16384        16384.0  -1.0000  -3.1068        6',\n",
       " '0.167478 0.156955        32768        32768.0  -1.0000  -3.4228        5',\n",
       " '0.157180 0.146881        65536        65536.0  -1.0000  -2.3222        6',\n",
       " '0.152933 0.148685       131072       131072.0  -1.0000  -0.6652       12',\n",
       " '0.147304 0.141675       262144       262144.0  -1.0000  -4.2875       11',\n",
       " '0.140351 0.133398       524288       524288.0  -1.0000   1.0066       12',\n",
       " '0.135155 0.135155      1048576      1048576.0  -1.0000  -6.1646       14 h',\n",
       " '0.130966 0.126777      2097152      2097152.0  -1.0000  -4.7115        4 h',\n",
       " '',\n",
       " 'finished run',\n",
       " 'number of examples per pass = 881632',\n",
       " 'passes used = 4',\n",
       " 'weighted example sum = 3526528.000000',\n",
       " 'weighted label sum = -3089080.000000',\n",
       " 'average loss = 0.127069 h',\n",
       " 'best constant = -2.716229',\n",
       " \"best constant's loss = 0.232497\",\n",
       " 'total feature number = 28520508']"
      ]
     },
     "execution_count": 41,
     "metadata": {},
     "output_type": "execute_result"
    }
   ],
   "source": [
    "!!vw -d $trainDataPath -b 27 --passes 4 --cache_file $cachePath --loss_function logistic -f $modelPath"
   ]
  },
  {
   "cell_type": "code",
   "execution_count": 49,
   "metadata": {},
   "outputs": [
    {
     "data": {
      "text/plain": [
       "['only testing',\n",
       " 'predictions = .input\\\\logistic_spacy\\\\test_predictions.txt',\n",
       " 'Num weight bits = 27',\n",
       " 'learning rate = 0.5',\n",
       " 'initial_t = 0',\n",
       " 'power_t = 0.5',\n",
       " 'using no cache',\n",
       " 'Reading datafile = .input\\\\logistic_spacy\\\\test.vw',\n",
       " 'num sources = 1',\n",
       " 'average  since         example        example  current  current  current',\n",
       " 'loss     last          counter         weight    label  predict features',\n",
       " '34.155354 34.155354            1            1.0  -1.0000   0.0011       11',\n",
       " '22.753491 11.351629            2            2.0  -1.0000   0.0125        7',\n",
       " '37.382015 52.010539            4            4.0  -1.0000   0.0000       11',\n",
       " '33.620005 29.857995            8            8.0  -1.0000   0.0025        6',\n",
       " '25.419935 17.219865           16           16.0  -1.0000   0.0137        8',\n",
       " '22.582161 19.744387           32           32.0  -1.0000   0.0144        5',\n",
       " '18.961040 15.339920           64           64.0  -1.0000   0.0011        7',\n",
       " '18.904889 18.848737          128          128.0  -1.0000   0.0114       10',\n",
       " '18.153539 17.402190          256          256.0  -1.0000   0.0025       11',\n",
       " '19.183495 20.213450          512          512.0   1.0000   0.0184       17',\n",
       " '18.388736 17.593977         1024         1024.0  -1.0000   0.0133        5',\n",
       " '18.933330 19.477924         2048         2048.0  -1.0000   0.0002       11',\n",
       " '18.974216 19.015102         4096         4096.0   1.0000   0.9672       22',\n",
       " '18.556696 18.139176         8192         8192.0  -1.0000   0.0060        5',\n",
       " '18.823790 19.090884        16384        16384.0  -1.0000   0.0008       10',\n",
       " '18.831167 18.838543        32768        32768.0  -1.0000   0.0004       10',\n",
       " '18.751890 18.672613        65536        65536.0  -1.0000   0.0169       12',\n",
       " '18.757365 18.762840       131072       131072.0  -1.0000   0.0041        7',\n",
       " '18.777718 18.798071       262144       262144.0  -1.0000   0.0151        5',\n",
       " '',\n",
       " 'finished run',\n",
       " 'number of examples per pass = 326531',\n",
       " 'passes used = 1',\n",
       " 'weighted example sum = 326531.000000',\n",
       " 'weighted label sum = -286653.000000',\n",
       " 'average loss = 18.799389',\n",
       " 'best constant = -0.877874',\n",
       " \"best constant's loss = 0.229338\",\n",
       " 'total feature number = 2642229']"
      ]
     },
     "execution_count": 49,
     "metadata": {},
     "output_type": "execute_result"
    }
   ],
   "source": [
    "!!vw -i $modelPath -t -d $testDataPath -p $predictionsPath --link logistic"
   ]
  },
  {
   "cell_type": "code",
   "execution_count": 50,
   "metadata": {
    "scrolled": true
   },
   "outputs": [
    {
     "data": {
      "image/png": "[encoded data removed]",
      "text/plain": [
       "<Figure size 432x288 with 1 Axes>"
      ]
     },
     "metadata": {
      "needs_background": "light"
     },
     "output_type": "display_data"
    }
   ],
   "source": [
    "with open(predictionsPath) as pred_file:\n",
    "    quora_test_prediction = [float(label) \n",
    "                             for label in pred_file.readlines()]\n",
    "\n",
    "auc = roc_auc_score(quora_test_labels, quora_test_prediction)\n",
    "curve = roc_curve(quora_test_labels, quora_test_prediction)\n",
    "\n",
    "\n",
    "plt.plot(curve[0], curve[1]);\n",
    "plt.plot([0,1], [0,1])\n",
    "plt.xlabel('FPR'); plt.ylabel('TPR'); plt.title('test AUC = %f' % (auc)); plt.axis([-0.05,1.05,-0.05,1.05]);\n"
   ]
  },
  {
   "cell_type": "code",
   "execution_count": 51,
   "metadata": {},
   "outputs": [
    {
     "name": "stdout",
     "output_type": "stream",
     "text": [
      "accuracy 0.9528314310126756\n",
      "precision 0.6893730695383588\n",
      "recall 0.4141631977531471\n",
      "f1 0.517450968105771\n"
     ]
    },
    {
     "data": {
      "text/plain": [
       "array([[302871,   3721],\n",
       "       [ 11681,   8258]], dtype=int64)"
      ]
     },
     "execution_count": 51,
     "metadata": {},
     "output_type": "execute_result"
    }
   ],
   "source": [
    "quora_test_pred = list(map(lambda x: -1.0 if x < 0.5 else 1.0, quora_test_prediction))\n",
    "print('accuracy', accuracy_score(quora_test_labels, quora_test_pred))\n",
    "print('precision', precision_score(quora_test_labels, quora_test_pred))\n",
    "print('recall', recall_score(quora_test_labels, quora_test_pred))\n",
    "print('f1', f1_score(quora_test_labels, quora_test_pred))\n",
    "confusion_matrix(quora_test_labels, quora_test_pred)"
   ]
  },
  {
   "cell_type": "code",
   "execution_count": null,
   "metadata": {},
   "outputs": [],
   "source": []
  }
 ],
 "metadata": {
  "kernelspec": {
   "display_name": "Python 3",
   "language": "python",
   "name": "python3"
  },
  "language_info": {
   "codemirror_mode": {
    "name": "ipython",
    "version": 3
   },
   "file_extension": ".py",
   "mimetype": "text/x-python",
   "name": "python",
   "nbconvert_exporter": "python",
   "pygments_lexer": "ipython3",
   "version": "3.7.0"
  }
 },
 "nbformat": 4,
 "nbformat_minor": 2
}
