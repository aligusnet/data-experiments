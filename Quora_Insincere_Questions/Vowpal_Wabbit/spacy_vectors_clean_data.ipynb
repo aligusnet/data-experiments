{
 "cells": [
  {
   "cell_type": "markdown",
   "metadata": {},
   "source": [
    "# Quora Questions Classification Based on Word Vectors\n",
    "## using Spacy with vectors only statistical model en_vectors_web_lg\n",
    "## and clean text data (no punctuations, no stop words)\n"
   ]
  },
  {
   "cell_type": "code",
   "execution_count": 1,
   "metadata": {},
   "outputs": [],
   "source": [
    "import os\n",
    "import numpy as np\n",
    "import pandas as pd\n",
    "from sklearn.model_selection import train_test_split\n",
    "from sklearn.metrics import roc_auc_score, roc_curve, accuracy_score\n",
    "from sklearn.metrics import confusion_matrix\n",
    "from sklearn.metrics import precision_score, recall_score, f1_score\n",
    "import matplotlib.pyplot as plt\n",
    "%matplotlib inline"
   ]
  },
  {
   "cell_type": "code",
   "execution_count": 2,
   "metadata": {},
   "outputs": [],
   "source": [
    "WORKING_DIR = os.path.join('.input', 'spacy_vectors_clean_data')"
   ]
  },
  {
   "cell_type": "code",
   "execution_count": 3,
   "metadata": {},
   "outputs": [],
   "source": [
    "quora = pd.read_csv('../data/.input/train.csv')"
   ]
  },
  {
   "cell_type": "code",
   "execution_count": 4,
   "metadata": {},
   "outputs": [
    {
     "data": {
      "text/html": [
       "<div>\n",
       "<style scoped>\n",
       "    .dataframe tbody tr th:only-of-type {\n",
       "        vertical-align: middle;\n",
       "    }\n",
       "\n",
       "    .dataframe tbody tr th {\n",
       "        vertical-align: top;\n",
       "    }\n",
       "\n",
       "    .dataframe thead th {\n",
       "        text-align: right;\n",
       "    }\n",
       "</style>\n",
       "<table border=\"1\" class=\"dataframe\">\n",
       "  <thead>\n",
       "    <tr style=\"text-align: right;\">\n",
       "      <th></th>\n",
       "      <th>qid</th>\n",
       "      <th>question_text</th>\n",
       "      <th>target</th>\n",
       "    </tr>\n",
       "  </thead>\n",
       "  <tbody>\n",
       "    <tr>\n",
       "      <th>0</th>\n",
       "      <td>00002165364db923c7e6</td>\n",
       "      <td>How did Quebec nationalists see their province...</td>\n",
       "      <td>0</td>\n",
       "    </tr>\n",
       "    <tr>\n",
       "      <th>1</th>\n",
       "      <td>000032939017120e6e44</td>\n",
       "      <td>Do you have an adopted dog, how would you enco...</td>\n",
       "      <td>0</td>\n",
       "    </tr>\n",
       "    <tr>\n",
       "      <th>2</th>\n",
       "      <td>0000412ca6e4628ce2cf</td>\n",
       "      <td>Why does velocity affect time? Does velocity a...</td>\n",
       "      <td>0</td>\n",
       "    </tr>\n",
       "    <tr>\n",
       "      <th>3</th>\n",
       "      <td>000042bf85aa498cd78e</td>\n",
       "      <td>How did Otto von Guericke used the Magdeburg h...</td>\n",
       "      <td>0</td>\n",
       "    </tr>\n",
       "    <tr>\n",
       "      <th>4</th>\n",
       "      <td>0000455dfa3e01eae3af</td>\n",
       "      <td>Can I convert montra helicon D to a mountain b...</td>\n",
       "      <td>0</td>\n",
       "    </tr>\n",
       "    <tr>\n",
       "      <th>5</th>\n",
       "      <td>00004f9a462a357c33be</td>\n",
       "      <td>Is Gaza slowly becoming Auschwitz, Dachau or T...</td>\n",
       "      <td>0</td>\n",
       "    </tr>\n",
       "    <tr>\n",
       "      <th>6</th>\n",
       "      <td>00005059a06ee19e11ad</td>\n",
       "      <td>Why does Quora automatically ban conservative ...</td>\n",
       "      <td>0</td>\n",
       "    </tr>\n",
       "    <tr>\n",
       "      <th>7</th>\n",
       "      <td>0000559f875832745e2e</td>\n",
       "      <td>Is it crazy if I wash or wipe my groceries off...</td>\n",
       "      <td>0</td>\n",
       "    </tr>\n",
       "    <tr>\n",
       "      <th>8</th>\n",
       "      <td>00005bd3426b2d0c8305</td>\n",
       "      <td>Is there such a thing as dressing moderately, ...</td>\n",
       "      <td>0</td>\n",
       "    </tr>\n",
       "    <tr>\n",
       "      <th>9</th>\n",
       "      <td>00006e6928c5df60eacb</td>\n",
       "      <td>Is it just me or have you ever been in this ph...</td>\n",
       "      <td>0</td>\n",
       "    </tr>\n",
       "  </tbody>\n",
       "</table>\n",
       "</div>"
      ],
      "text/plain": [
       "                    qid                                      question_text  \\\n",
       "0  00002165364db923c7e6  How did Quebec nationalists see their province...   \n",
       "1  000032939017120e6e44  Do you have an adopted dog, how would you enco...   \n",
       "2  0000412ca6e4628ce2cf  Why does velocity affect time? Does velocity a...   \n",
       "3  000042bf85aa498cd78e  How did Otto von Guericke used the Magdeburg h...   \n",
       "4  0000455dfa3e01eae3af  Can I convert montra helicon D to a mountain b...   \n",
       "5  00004f9a462a357c33be  Is Gaza slowly becoming Auschwitz, Dachau or T...   \n",
       "6  00005059a06ee19e11ad  Why does Quora automatically ban conservative ...   \n",
       "7  0000559f875832745e2e  Is it crazy if I wash or wipe my groceries off...   \n",
       "8  00005bd3426b2d0c8305  Is there such a thing as dressing moderately, ...   \n",
       "9  00006e6928c5df60eacb  Is it just me or have you ever been in this ph...   \n",
       "\n",
       "   target  \n",
       "0       0  \n",
       "1       0  \n",
       "2       0  \n",
       "3       0  \n",
       "4       0  \n",
       "5       0  \n",
       "6       0  \n",
       "7       0  \n",
       "8       0  \n",
       "9       0  "
      ]
     },
     "execution_count": 4,
     "metadata": {},
     "output_type": "execute_result"
    }
   ],
   "source": [
    "quora.head(10)"
   ]
  },
  {
   "cell_type": "code",
   "execution_count": 5,
   "metadata": {},
   "outputs": [],
   "source": [
    "quora_train, quora_test = train_test_split(quora, random_state=42)\n",
    "quora_train_data = quora_train.question_text\n",
    "quora_train_labels = quora_train.target * 2.0 - 1.0\n",
    "quora_test_data = quora_test.question_text\n",
    "quora_test_labels = quora_test.target * 2.0 - 1.0"
   ]
  },
  {
   "cell_type": "code",
   "execution_count": 7,
   "metadata": {},
   "outputs": [
    {
     "name": "stdout",
     "output_type": "stream",
     "text": [
      "Wall time: 15.7 s\n"
     ]
    }
   ],
   "source": [
    "%%time\n",
    "\n",
    "import spacy\n",
    "nlp = spacy.load('en_vectors_web_lg')"
   ]
  },
  {
   "cell_type": "code",
   "execution_count": 8,
   "metadata": {},
   "outputs": [
    {
     "data": {
      "text/plain": [
       "'-1.0 |n f0:0.017512090504169464 f1:0.06360262632369995 f2:-0.058652877'"
      ]
     },
     "execution_count": 8,
     "metadata": {},
     "output_type": "execute_result"
    }
   ],
   "source": [
    "def clean_text(text):\n",
    "    doc = nlp(text)\n",
    "    lemmas = [token.lemma_ for token in doc if not token.is_punct and not token.is_stop]\n",
    "    return ' '.join(lemmas)\n",
    "\n",
    "def vectorize_text(text):\n",
    "    return nlp(clean_text(text)).vector\n",
    "\n",
    "def to_vw_format(document, label=None):\n",
    "    vector = vectorize_text(document)\n",
    "    values = []\n",
    "    for index, value in enumerate(vector):\n",
    "        values.append('f{}:{}'.format(index, value))\n",
    "    return str(label or '') + ' |n ' + ' '.join(values) + '\\n'\n",
    "\n",
    "to_vw_format(quora_train_data.iloc[0], quora_train_labels[0])[:70]"
   ]
  },
  {
   "cell_type": "code",
   "execution_count": 9,
   "metadata": {},
   "outputs": [],
   "source": [
    "!!mkdir $WORKING_DIR\n",
    "trainDataPath = os.path.join(WORKING_DIR, 'train.vw')\n",
    "testDataPath = os.path.join(WORKING_DIR, 'test.vw')"
   ]
  },
  {
   "cell_type": "code",
   "execution_count": 10,
   "metadata": {},
   "outputs": [
    {
     "name": "stdout",
     "output_type": "stream",
     "text": [
      "Wall time: 29min 44s\n"
     ]
    }
   ],
   "source": [
    "%%time\n",
    "\n",
    "with open(trainDataPath, 'w', encoding='utf-8') as vw_train_data:\n",
    "    for text, target in zip(quora_train_data, quora_train_labels):\n",
    "        vw_train_data.write(to_vw_format(text, target))\n",
    "with open(testDataPath, 'w', encoding='utf-8') as vw_test_data:\n",
    "    for text, target in zip(quora_test_data, quora_test_labels):\n",
    "        vw_test_data.write(to_vw_format(text, target))"
   ]
  },
  {
   "cell_type": "markdown",
   "metadata": {},
   "source": [
    "## Logistic loss function"
   ]
  },
  {
   "cell_type": "code",
   "execution_count": 34,
   "metadata": {},
   "outputs": [],
   "source": [
    "logisticModelPath = os.path.join(WORKING_DIR, 'logistic_model.vw')\n",
    "logisticPredictionsPath = os.path.join(WORKING_DIR, 'logistic_test_predictions.txt')\n",
    "logisticCachePath = os.path.join(WORKING_DIR, 'logistic_cache')"
   ]
  },
  {
   "cell_type": "code",
   "execution_count": 17,
   "metadata": {},
   "outputs": [
    {
     "data": {
      "text/plain": [
       "['final_regressor = .input\\\\logistic_spacy_vectors_clean_data\\\\logistic_model.vw',\n",
       " 'Num weight bits = 18',\n",
       " 'learning rate = 0.5',\n",
       " 'initial_t = 0',\n",
       " 'power_t = 0.5',\n",
       " 'creating cache_file = .input\\\\logistic_spacy_vectors_clean_data\\\\logistic_cache',\n",
       " 'Reading datafile = .input\\\\logistic_spacy_vectors_clean_data\\\\train.vw',\n",
       " 'num sources = 1',\n",
       " 'average  since         example        example  current  current  current',\n",
       " 'loss     last          counter         weight    label  predict features',\n",
       " '0.693147 0.693147            1            1.0  -1.0000   0.0000      301',\n",
       " '3.672194 6.651240            2            2.0  -1.0000   6.6499      301',\n",
       " '2.202084 0.731974            4            4.0  -1.0000  -1.2130      301',\n",
       " '1.320490 0.438896            8            8.0  -1.0000  -0.7074      301',\n",
       " '1.049698 0.778906           16           16.0  -1.0000  -2.0616      301',\n",
       " '0.671467 0.293236           32           32.0  -1.0000  -0.5714      301',\n",
       " '0.469672 0.267876           64           64.0  -1.0000  -1.7998      301',\n",
       " '0.340916 0.212161          128          128.0  -1.0000  -2.5144      301',\n",
       " '0.298801 0.256686          256          256.0  -1.0000  -2.3903      301',\n",
       " '0.249429 0.200057          512          512.0  -1.0000  -3.4158      301',\n",
       " '0.226578 0.203726         1024         1024.0  -1.0000  -3.6206      301',\n",
       " '0.208443 0.190309         2048         2048.0  -1.0000  -3.9892      301',\n",
       " '0.197235 0.186027         4096         4096.0  -1.0000  -3.2135      301',\n",
       " '0.182962 0.168689         8192         8192.0  -1.0000  -0.5706      301',\n",
       " '0.173987 0.165013        16384        16384.0  -1.0000  -1.9623      301',\n",
       " '0.165851 0.157715        32768        32768.0  -1.0000  -5.2660      301',\n",
       " '0.162736 0.159620        65536        65536.0  -1.0000  -3.3688      301',\n",
       " '0.162999 0.163263       131072       131072.0  -1.0000  -6.3520      301',\n",
       " '0.163410 0.163820       262144       262144.0  -1.0000  -5.3815      301',\n",
       " '0.161490 0.159570       524288       524288.0  -1.0000  -4.3110      301',\n",
       " '',\n",
       " 'finished run',\n",
       " 'number of examples per pass = 979591',\n",
       " 'passes used = 1',\n",
       " 'weighted example sum = 979591.000000',\n",
       " 'weighted label sum = -857849.000000',\n",
       " 'average loss = 0.161081',\n",
       " 'best constant = -2.714225',\n",
       " \"best constant's loss = 0.232813\",\n",
       " 'total feature number = 294247037']"
      ]
     },
     "execution_count": 17,
     "metadata": {},
     "output_type": "execute_result"
    }
   ],
   "source": [
    "!!vw -d $trainDataPath --cache_file $logisticCachePath --loss_function logistic -f $logisticModelPath"
   ]
  },
  {
   "cell_type": "code",
   "execution_count": 18,
   "metadata": {},
   "outputs": [
    {
     "data": {
      "text/plain": [
       "['only testing',\n",
       " 'predictions = .input\\\\logistic_spacy_vectors_clean_data\\\\logistic_test_predictions.txt',\n",
       " 'Num weight bits = 18',\n",
       " 'learning rate = 0.5',\n",
       " 'initial_t = 0',\n",
       " 'power_t = 0.5',\n",
       " 'using no cache',\n",
       " 'Reading datafile = .input\\\\logistic_spacy_vectors_clean_data\\\\test.vw',\n",
       " 'num sources = 1',\n",
       " 'average  since         example        example  current  current  current',\n",
       " 'loss     last          counter         weight    label  predict features',\n",
       " '26.973206 26.973206            1            1.0  -1.0000   0.0020      301',\n",
       " '19.841166 12.709126            2            2.0  -1.0000   0.0103      301',\n",
       " '17.599752 15.358338            4            4.0  -1.0000   0.0065      301',\n",
       " '18.258560 18.917368            8            8.0  -1.0000   0.0023      301',\n",
       " '13.514430 8.770299           16           16.0  -1.0000   0.0046      301',\n",
       " '14.027745 14.541060           32           32.0  -1.0000   0.0070      301',\n",
       " '12.413195 10.798646           64           64.0  -1.0000   0.0019      301',\n",
       " '11.466026 10.518857          128          128.0  -1.0000   0.0316      301',\n",
       " '10.320604 9.175181          256          256.0  -1.0000   0.0129      301',\n",
       " '10.114458 9.908313          512          512.0   1.0000   0.0722      301',\n",
       " '9.910375 9.706291         1024         1024.0  -1.0000   0.0397      301',\n",
       " '10.392800 10.875225         2048         2048.0  -1.0000   0.0053      301',\n",
       " '10.340602 10.288405         4096         4096.0   1.0000   0.1889      301',\n",
       " '10.245205 10.149807         8192         8192.0  -1.0000   0.0068      301',\n",
       " '10.204360 10.163515        16384        16384.0  -1.0000   0.0130      301',\n",
       " '10.194906 10.185452        32768        32768.0  -1.0000   0.0113      301',\n",
       " '10.162281 10.129657        65536        65536.0  -1.0000   0.0204      301',\n",
       " '10.171441 10.180601       131072       131072.0  -1.0000   0.0051      301',\n",
       " '10.180890 10.190340       262144       262144.0  -1.0000   0.0857      301',\n",
       " '',\n",
       " 'finished run',\n",
       " 'number of examples per pass = 326531',\n",
       " 'passes used = 1',\n",
       " 'weighted example sum = 326531.000000',\n",
       " 'weighted label sum = -286653.000000',\n",
       " 'average loss = 10.192805',\n",
       " 'best constant = -0.877874',\n",
       " \"best constant's loss = 0.229338\",\n",
       " 'total feature number = 98087445']"
      ]
     },
     "execution_count": 18,
     "metadata": {},
     "output_type": "execute_result"
    }
   ],
   "source": [
    "!!vw -i $logisticModelPath -t -d $testDataPath -p $logisticPredictionsPath --link logistic"
   ]
  },
  {
   "cell_type": "code",
   "execution_count": 28,
   "metadata": {
    "scrolled": true
   },
   "outputs": [
    {
     "data": {
      "image/png": "[encoded data removed]",
      "text/plain": [
       "<Figure size 432x288 with 1 Axes>"
      ]
     },
     "metadata": {
      "needs_background": "light"
     },
     "output_type": "display_data"
    }
   ],
   "source": [
    "with open(logisticPredictionsPath) as pred_file:\n",
    "    quora_test_prediction = [float(label) \n",
    "                             for label in pred_file.readlines()]\n",
    "\n",
    "auc = roc_auc_score(quora_test_labels, quora_test_prediction)\n",
    "curve = roc_curve(quora_test_labels, quora_test_prediction)\n",
    "\n",
    "\n",
    "plt.plot(curve[0], curve[1]);\n",
    "plt.plot([0,1], [0,1])\n",
    "plt.xlabel('FPR'); plt.ylabel('TPR'); plt.title('test AUC = %f' % (auc)); plt.axis([-0.05,1.05,-0.05,1.05]);\n"
   ]
  },
  {
   "cell_type": "code",
   "execution_count": 29,
   "metadata": {},
   "outputs": [
    {
     "name": "stdout",
     "output_type": "stream",
     "text": [
      "accuracy 0.939965883790513\n",
      "precision 0.5232751454696591\n",
      "recall 0.18942775465168765\n",
      "f1 0.2781603269875171\n"
     ]
    },
    {
     "data": {
      "text/plain": [
       "array([[303151,   3441],\n",
       "       [ 16162,   3777]], dtype=int64)"
      ]
     },
     "execution_count": 29,
     "metadata": {},
     "output_type": "execute_result"
    }
   ],
   "source": [
    "quora_test_pred = list(map(lambda x: -1.0 if x < 0.5 else 1.0, quora_test_prediction))\n",
    "print('accuracy', accuracy_score(quora_test_labels, quora_test_pred))\n",
    "print('precision', precision_score(quora_test_labels, quora_test_pred))\n",
    "print('recall', recall_score(quora_test_labels, quora_test_pred))\n",
    "print('f1', f1_score(quora_test_labels, quora_test_pred))\n",
    "confusion_matrix(quora_test_labels, quora_test_pred)"
   ]
  },
  {
   "cell_type": "markdown",
   "metadata": {},
   "source": [
    "## Squared loss function\n"
   ]
  },
  {
   "cell_type": "code",
   "execution_count": 21,
   "metadata": {},
   "outputs": [],
   "source": [
    "squaredModelPath = os.path.join(WORKING_DIR, 'squared_model.vw')\n",
    "squaredPredictionsPath = os.path.join(WORKING_DIR, 'squared_test_predictions.txt')\n",
    "squaredCachePath = os.path.join(WORKING_DIR, 'squared_cache')"
   ]
  },
  {
   "cell_type": "code",
   "execution_count": 22,
   "metadata": {},
   "outputs": [
    {
     "data": {
      "text/plain": [
       "['final_regressor = .input\\\\logistic_spacy_vectors_clean_data\\\\squared_model.vw',\n",
       " 'Num weight bits = 18',\n",
       " 'learning rate = 0.5',\n",
       " 'initial_t = 0',\n",
       " 'power_t = 0.5',\n",
       " 'creating cache_file = .input\\\\logistic_spacy_vectors_clean_data\\\\squared_cache',\n",
       " 'Reading datafile = .input\\\\logistic_spacy_vectors_clean_data\\\\train.vw',\n",
       " 'num sources = 1',\n",
       " 'average  since         example        example  current  current  current',\n",
       " 'loss     last          counter         weight    label  predict features',\n",
       " '1.000000 1.000000            1            1.0  -1.0000   0.0000      301',\n",
       " '1.000000 1.000000            2            2.0  -1.0000   0.0000      301',\n",
       " '0.907631 0.815263            4            4.0  -1.0000  -0.2059      301',\n",
       " '0.704349 0.501066            8            8.0  -1.0000  -0.4487      301',\n",
       " '0.795013 0.885677           16           16.0  -1.0000  -1.0000      301',\n",
       " '0.488533 0.182053           32           32.0  -1.0000  -0.4325      301',\n",
       " '0.373911 0.259290           64           64.0  -1.0000  -1.0000      301',\n",
       " '0.293667 0.213422          128          128.0  -1.0000  -1.0000      301',\n",
       " '0.292259 0.290852          256          256.0  -1.0000  -0.4139      301',\n",
       " '0.247749 0.203238          512          512.0  -1.0000  -1.0000      301',\n",
       " '0.234063 0.220377         1024         1024.0  -1.0000  -1.0000      301',\n",
       " '0.226099 0.218136         2048         2048.0  -1.0000  -1.0000      301',\n",
       " '0.220053 0.214007         4096         4096.0  -1.0000  -1.0000      301',\n",
       " '0.204212 0.188370         8192         8192.0  -1.0000  -0.3118      301',\n",
       " '0.195328 0.186444        16384        16384.0  -1.0000  -0.5590      301',\n",
       " '0.185802 0.176276        32768        32768.0  -1.0000  -1.0000      301',\n",
       " '0.182892 0.179982        65536        65536.0  -1.0000  -0.9912      301',\n",
       " '0.183281 0.183670       131072       131072.0  -1.0000  -1.0000      301',\n",
       " '0.183737 0.184194       262144       262144.0  -1.0000  -1.0000      301',\n",
       " '0.181465 0.179193       524288       524288.0  -1.0000  -1.0000      301',\n",
       " '',\n",
       " 'finished run',\n",
       " 'number of examples per pass = 979591',\n",
       " 'passes used = 1',\n",
       " 'weighted example sum = 979591.000000',\n",
       " 'weighted label sum = -857849.000000',\n",
       " 'average loss = 0.180993',\n",
       " 'best constant = -0.875722',\n",
       " \"best constant's loss = 0.233112\",\n",
       " 'total feature number = 294247037']"
      ]
     },
     "execution_count": 22,
     "metadata": {},
     "output_type": "execute_result"
    }
   ],
   "source": [
    "!!vw -d $trainDataPath --cache_file $squaredCachePath --loss_function squared -f $squaredModelPath"
   ]
  },
  {
   "cell_type": "code",
   "execution_count": 23,
   "metadata": {},
   "outputs": [
    {
     "data": {
      "text/plain": [
       "['only testing',\n",
       " 'predictions = .input\\\\logistic_spacy_vectors_clean_data\\\\squared_test_predictions.txt',\n",
       " 'Num weight bits = 18',\n",
       " 'learning rate = 0.5',\n",
       " 'initial_t = 0',\n",
       " 'power_t = 0.5',\n",
       " 'using no cache',\n",
       " 'Reading datafile = .input\\\\logistic_spacy_vectors_clean_data\\\\test.vw',\n",
       " 'num sources = 1',\n",
       " 'average  since         example        example  current  current  current',\n",
       " 'loss     last          counter         weight    label  predict features',\n",
       " '0.000000 0.000000            1            1.0  -1.0000  -1.0000      301',\n",
       " '0.000000 0.000000            2            2.0  -1.0000  -1.0000      301',\n",
       " '0.000000 0.000000            4            4.0  -1.0000  -1.0000      301',\n",
       " '0.000000 0.000000            8            8.0  -1.0000  -1.0000      301',\n",
       " '0.014695 0.029390           16           16.0  -1.0000  -1.0000      301',\n",
       " '0.027472 0.040250           32           32.0  -1.0000  -1.0000      301',\n",
       " '0.039001 0.050529           64           64.0  -1.0000  -1.0000      301',\n",
       " '0.127704 0.216407          128          128.0  -1.0000  -0.9568      301',\n",
       " '0.204807 0.281910          256          256.0  -1.0000  -1.0000      301',\n",
       " '0.194864 0.184921          512          512.0   1.0000  -0.7751      301',\n",
       " '0.204267 0.213669         1024         1024.0  -1.0000  -0.8741      301',\n",
       " '0.204839 0.205412         2048         2048.0  -1.0000  -1.0000      301',\n",
       " '0.186172 0.167504         4096         4096.0   1.0000  -0.4572      301',\n",
       " '0.193160 0.200149         8192         8192.0  -1.0000  -1.0000      301',\n",
       " '0.184094 0.175027        16384        16384.0  -1.0000  -1.0000      301',\n",
       " '0.180396 0.176698        32768        32768.0  -1.0000  -1.0000      301',\n",
       " '0.176447 0.172498        65536        65536.0  -1.0000  -1.0000      301',\n",
       " '0.175137 0.173827       131072       131072.0  -1.0000  -1.0000      301',\n",
       " '0.176676 0.178216       262144       262144.0  -1.0000  -0.7754      301',\n",
       " '',\n",
       " 'finished run',\n",
       " 'number of examples per pass = 326531',\n",
       " 'passes used = 1',\n",
       " 'weighted example sum = 326531.000000',\n",
       " 'weighted label sum = -286653.000000',\n",
       " 'average loss = 0.177134',\n",
       " 'best constant = -0.877874',\n",
       " \"best constant's loss = 0.229338\",\n",
       " 'total feature number = 98087445']"
      ]
     },
     "execution_count": 23,
     "metadata": {},
     "output_type": "execute_result"
    }
   ],
   "source": [
    "!!vw -i $squaredModelPath -t -d $testDataPath -p $squaredPredictionsPath"
   ]
  },
  {
   "cell_type": "code",
   "execution_count": 24,
   "metadata": {},
   "outputs": [
    {
     "data": {
      "image/png": "[encoded data removed]",
      "text/plain": [
       "<Figure size 432x288 with 1 Axes>"
      ]
     },
     "metadata": {
      "needs_background": "light"
     },
     "output_type": "display_data"
    }
   ],
   "source": [
    "with open(squaredPredictionsPath) as pred_file:\n",
    "    quora_test_prediction = [float(label) \n",
    "                             for label in pred_file.readlines()]\n",
    "\n",
    "auc = roc_auc_score(quora_test_labels, quora_test_prediction)\n",
    "curve = roc_curve(quora_test_labels, quora_test_prediction)\n",
    "\n",
    "\n",
    "plt.plot(curve[0], curve[1]);\n",
    "plt.plot([0,1], [0,1])\n",
    "plt.xlabel('FPR'); plt.ylabel('TPR'); plt.title('test AUC = %f' % (auc)); plt.axis([-0.05,1.05,-0.05,1.05]);"
   ]
  },
  {
   "cell_type": "code",
   "execution_count": 25,
   "metadata": {},
   "outputs": [
    {
     "name": "stdout",
     "output_type": "stream",
     "text": [
      "accuracy 0.9405875705522599\n",
      "precision 0.5586507072905332\n",
      "recall 0.12874266512864235\n",
      "f1 0.20926061791799133\n"
     ]
    },
    {
     "data": {
      "text/plain": [
       "array([[304564,   2028],\n",
       "       [ 17372,   2567]], dtype=int64)"
      ]
     },
     "execution_count": 25,
     "metadata": {},
     "output_type": "execute_result"
    }
   ],
   "source": [
    "quora_test_pred = list(map(lambda x: -1.0 if x < 0.0 else 1.0, quora_test_prediction))\n",
    "print('accuracy', accuracy_score(quora_test_labels, quora_test_pred))\n",
    "print('precision', precision_score(quora_test_labels, quora_test_pred))\n",
    "print('recall', recall_score(quora_test_labels, quora_test_pred))\n",
    "print('f1', f1_score(quora_test_labels, quora_test_pred))\n",
    "confusion_matrix(quora_test_labels, quora_test_pred)"
   ]
  },
  {
   "cell_type": "markdown",
   "metadata": {},
   "source": [
    "## Hinge loss function"
   ]
  },
  {
   "cell_type": "code",
   "execution_count": 27,
   "metadata": {},
   "outputs": [],
   "source": [
    "hingeModelPath = os.path.join(WORKING_DIR, 'hinge_model.vw')\n",
    "hingePredictionsPath = os.path.join(WORKING_DIR, 'hinge_test_predictions.txt')\n",
    "hingeCachePath = os.path.join(WORKING_DIR, 'hinge_cache')"
   ]
  },
  {
   "cell_type": "code",
   "execution_count": 35,
   "metadata": {},
   "outputs": [
    {
     "data": {
      "text/plain": [
       "['using l1 regularization = 1e-07',\n",
       " 'final_regressor = .input\\\\logistic_spacy_vectors_clean_data\\\\hinge_model.vw',\n",
       " 'Num weight bits = 18',\n",
       " 'learning rate = 0.5',\n",
       " 'initial_t = 0',\n",
       " 'power_t = 0.5',\n",
       " 'using cache_file = .input\\\\logistic_spacy_vectors_clean_data\\\\hinge_cache',\n",
       " 'ignoring text input in favor of cache input',\n",
       " 'num sources = 1',\n",
       " 'average  since         example        example  current  current  current',\n",
       " 'loss     last          counter         weight    label  predict features',\n",
       " '1.000000 1.000000            1            1.0  -1.0000   0.0000      301',\n",
       " '1.000000 1.000000            2            2.0  -1.0000   0.0000      301',\n",
       " '0.948477 0.896954            4            4.0  -1.0000  -0.2061      301',\n",
       " '0.808429 0.668381            8            8.0  -1.0000  -0.4850      301',\n",
       " '0.746306 0.684182           16           16.0  -1.0000  -1.0000      301',\n",
       " '0.506721 0.267136           32           32.0  -1.0000  -0.4783      301',\n",
       " '0.381359 0.255998           64           64.0  -1.0000  -1.0000      301',\n",
       " '0.278574 0.175789          128          128.0  -1.0000  -1.0000      301',\n",
       " '0.256399 0.234223          256          256.0  -1.0000  -0.9548      301',\n",
       " '0.203630 0.150861          512          512.0  -1.0000  -1.0000      301',\n",
       " '0.179220 0.154811         1024         1024.0  -1.0000  -1.0000      301',\n",
       " '0.163831 0.148441         2048         2048.0  -1.0000  -1.0000      301',\n",
       " '0.153531 0.143232         4096         4096.0  -1.0000  -1.0000      301',\n",
       " '0.140095 0.126659         8192         8192.0  -1.0000  -0.9071      301',\n",
       " '0.134074 0.128053        16384        16384.0  -1.0000  -1.0000      301',\n",
       " '0.128022 0.121971        32768        32768.0  -1.0000  -1.0000      301',\n",
       " '0.126337 0.124652        65536        65536.0  -1.0000  -1.0000      301',\n",
       " '0.126834 0.127331       131072       131072.0  -1.0000  -1.0000      301',\n",
       " '0.127368 0.127901       262144       262144.0  -1.0000  -1.0000      301',\n",
       " '0.126250 0.125133       524288       524288.0  -1.0000  -1.0000      301',\n",
       " '',\n",
       " 'finished run',\n",
       " 'number of examples per pass = 979591',\n",
       " 'passes used = 1',\n",
       " 'weighted example sum = 979591.000000',\n",
       " 'weighted label sum = -857849.000000',\n",
       " 'average loss = 0.125617',\n",
       " 'best constant = -1.000000',\n",
       " \"best constant's loss = 0.124278\",\n",
       " 'total feature number = 294247037']"
      ]
     },
     "execution_count": 35,
     "metadata": {},
     "output_type": "execute_result"
    }
   ],
   "source": [
    "!!vw -d $trainDataPath --cache_file $hingeCachePath --loss_function hinge --l1 0.0000001 -f $hingeModelPath"
   ]
  },
  {
   "cell_type": "code",
   "execution_count": 36,
   "metadata": {},
   "outputs": [
    {
     "data": {
      "text/plain": [
       "['only testing',\n",
       " 'predictions = .input\\\\logistic_spacy_vectors_clean_data\\\\hinge_test_predictions.txt',\n",
       " 'Num weight bits = 18',\n",
       " 'learning rate = 0.5',\n",
       " 'initial_t = 0',\n",
       " 'power_t = 0.5',\n",
       " 'using no cache',\n",
       " 'Reading datafile = .input\\\\logistic_spacy_vectors_clean_data\\\\test.vw',\n",
       " 'num sources = 1',\n",
       " 'average  since         example        example  current  current  current',\n",
       " 'loss     last          counter         weight    label  predict features',\n",
       " '0.000000 0.000000            1            1.0  -1.0000  -1.0000      301',\n",
       " '0.000000 0.000000            2            2.0  -1.0000  -1.0000      301',\n",
       " '0.000000 0.000000            4            4.0  -1.0000  -1.0000      301',\n",
       " '0.000000 0.000000            8            8.0  -1.0000  -1.0000      301',\n",
       " '0.000000 0.000001           16           16.0  -1.0000  -1.0000      301',\n",
       " '0.000020 0.000040           32           32.0  -1.0000  -1.0000      301',\n",
       " '0.058748 0.117475           64           64.0  -1.0000  -1.0000      301',\n",
       " '0.153739 0.248730          128          128.0  -1.0000  -1.0000      301',\n",
       " '0.276783 0.399828          256          256.0  -1.0000  -1.0000      301',\n",
       " '0.247022 0.217260          512          512.0   1.0000  -1.0000      301',\n",
       " '0.258088 0.269155         1024         1024.0  -1.0000  -1.0000      301',\n",
       " '0.266924 0.275759         2048         2048.0  -1.0000  -1.0000      301',\n",
       " '0.236277 0.205629         4096         4096.0   1.0000  -0.9787      301',\n",
       " '0.257364 0.278452         8192         8192.0  -1.0000  -1.0000      301',\n",
       " '0.247910 0.238456        16384        16384.0  -1.0000  -1.0000      301',\n",
       " '0.242559 0.237208        32768        32768.0  -1.0000  -1.0000      301',\n",
       " '0.236330 0.230100        65536        65536.0  -1.0000  -1.0000      301',\n",
       " '0.235925 0.235520       131072       131072.0  -1.0000  -1.0000      301',\n",
       " '0.237828 0.239730       262144       262144.0  -1.0000  -1.0000      301',\n",
       " '',\n",
       " 'finished run',\n",
       " 'number of examples per pass = 326531',\n",
       " 'passes used = 1',\n",
       " 'weighted example sum = 326531.000000',\n",
       " 'weighted label sum = -286653.000000',\n",
       " 'average loss = 0.239243',\n",
       " 'best constant = -0.877874',\n",
       " \"best constant's loss = 0.229338\",\n",
       " 'total feature number = 98087445']"
      ]
     },
     "execution_count": 36,
     "metadata": {},
     "output_type": "execute_result"
    }
   ],
   "source": [
    "!!vw -i $hingeModelPath -t -d $testDataPath -p $hingePredictionsPath"
   ]
  },
  {
   "cell_type": "code",
   "execution_count": 37,
   "metadata": {},
   "outputs": [
    {
     "data": {
      "image/png": "[encoded data removed]",
      "text/plain": [
       "<Figure size 432x288 with 1 Axes>"
      ]
     },
     "metadata": {
      "needs_background": "light"
     },
     "output_type": "display_data"
    }
   ],
   "source": [
    "with open(hingePredictionsPath) as pred_file:\n",
    "    quora_test_prediction = [float(label) \n",
    "                             for label in pred_file.readlines()]\n",
    "\n",
    "auc = roc_auc_score(quora_test_labels, quora_test_prediction)\n",
    "curve = roc_curve(quora_test_labels, quora_test_prediction)\n",
    "\n",
    "\n",
    "plt.plot(curve[0], curve[1]);\n",
    "plt.plot([0,1], [0,1])\n",
    "plt.xlabel('FPR'); plt.ylabel('TPR'); plt.title('test AUC = %f' % (auc)); plt.axis([-0.05,1.05,-0.05,1.05]);"
   ]
  },
  {
   "cell_type": "code",
   "execution_count": 39,
   "metadata": {},
   "outputs": [
    {
     "name": "stdout",
     "output_type": "stream",
     "text": [
      "accuracy 0.9389368850124491\n"
     ]
    },
    {
     "data": {
      "text/plain": [
       "array([[306592,      0],\n",
       "       [ 19939,      0]], dtype=int64)"
      ]
     },
     "execution_count": 39,
     "metadata": {},
     "output_type": "execute_result"
    }
   ],
   "source": [
    "quora_test_pred = list(map(lambda x: -1.0 if x < 0.0 else 1.0, quora_test_prediction))\n",
    "print('accuracy', accuracy_score(quora_test_labels, quora_test_pred))\n",
    "#print('precision', precision_score(quora_test_labels, quora_test_pred))\n",
    "#print('recall', recall_score(quora_test_labels, quora_test_pred))\n",
    "#print('f1', f1_score(quora_test_labels, quora_test_pred))\n",
    "confusion_matrix(quora_test_labels, quora_test_pred)"
   ]
  },
  {
   "cell_type": "code",
   "execution_count": null,
   "metadata": {},
   "outputs": [],
   "source": []
  }
 ],
 "metadata": {
  "kernelspec": {
   "display_name": "Python 3",
   "language": "python",
   "name": "python3"
  },
  "language_info": {
   "codemirror_mode": {
    "name": "ipython",
    "version": 3
   },
   "file_extension": ".py",
   "mimetype": "text/x-python",
   "name": "python",
   "nbconvert_exporter": "python",
   "pygments_lexer": "ipython3",
   "version": "3.6.5"
  }
 },
 "nbformat": 4,
 "nbformat_minor": 2
}
