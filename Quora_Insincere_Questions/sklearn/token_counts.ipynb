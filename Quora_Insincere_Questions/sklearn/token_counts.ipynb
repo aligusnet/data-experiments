{
 "cells": [
  {
   "cell_type": "code",
   "execution_count": 1,
   "metadata": {},
   "outputs": [],
   "source": [
    "import re\n",
    "import os\n",
    "import numpy as np\n",
    "import pandas as pd\n",
    "from sklearn.model_selection import train_test_split\n",
    "from sklearn.metrics import roc_auc_score, roc_curve, accuracy_score\n",
    "from sklearn.metrics import confusion_matrix\n",
    "from sklearn.metrics import precision_score, recall_score, f1_score\n",
    "import matplotlib.pyplot as plt\n",
    "%matplotlib inline"
   ]
  },
  {
   "cell_type": "code",
   "execution_count": 2,
   "metadata": {},
   "outputs": [],
   "source": [
    "WORKING_DIR = os.path.join('.input', 'logistic')"
   ]
  },
  {
   "cell_type": "code",
   "execution_count": 4,
   "metadata": {},
   "outputs": [],
   "source": [
    "quora = pd.read_csv('../data/.input/train.csv')"
   ]
  },
  {
   "cell_type": "code",
   "execution_count": 5,
   "metadata": {
    "scrolled": true
   },
   "outputs": [
    {
     "data": {
      "text/html": [
       "<div>\n",
       "<style scoped>\n",
       "    .dataframe tbody tr th:only-of-type {\n",
       "        vertical-align: middle;\n",
       "    }\n",
       "\n",
       "    .dataframe tbody tr th {\n",
       "        vertical-align: top;\n",
       "    }\n",
       "\n",
       "    .dataframe thead th {\n",
       "        text-align: right;\n",
       "    }\n",
       "</style>\n",
       "<table border=\"1\" class=\"dataframe\">\n",
       "  <thead>\n",
       "    <tr style=\"text-align: right;\">\n",
       "      <th></th>\n",
       "      <th>qid</th>\n",
       "      <th>question_text</th>\n",
       "      <th>target</th>\n",
       "    </tr>\n",
       "  </thead>\n",
       "  <tbody>\n",
       "    <tr>\n",
       "      <th>0</th>\n",
       "      <td>00002165364db923c7e6</td>\n",
       "      <td>How did Quebec nationalists see their province...</td>\n",
       "      <td>0</td>\n",
       "    </tr>\n",
       "    <tr>\n",
       "      <th>1</th>\n",
       "      <td>000032939017120e6e44</td>\n",
       "      <td>Do you have an adopted dog, how would you enco...</td>\n",
       "      <td>0</td>\n",
       "    </tr>\n",
       "    <tr>\n",
       "      <th>2</th>\n",
       "      <td>0000412ca6e4628ce2cf</td>\n",
       "      <td>Why does velocity affect time? Does velocity a...</td>\n",
       "      <td>0</td>\n",
       "    </tr>\n",
       "    <tr>\n",
       "      <th>3</th>\n",
       "      <td>000042bf85aa498cd78e</td>\n",
       "      <td>How did Otto von Guericke used the Magdeburg h...</td>\n",
       "      <td>0</td>\n",
       "    </tr>\n",
       "    <tr>\n",
       "      <th>4</th>\n",
       "      <td>0000455dfa3e01eae3af</td>\n",
       "      <td>Can I convert montra helicon D to a mountain b...</td>\n",
       "      <td>0</td>\n",
       "    </tr>\n",
       "    <tr>\n",
       "      <th>5</th>\n",
       "      <td>00004f9a462a357c33be</td>\n",
       "      <td>Is Gaza slowly becoming Auschwitz, Dachau or T...</td>\n",
       "      <td>0</td>\n",
       "    </tr>\n",
       "    <tr>\n",
       "      <th>6</th>\n",
       "      <td>00005059a06ee19e11ad</td>\n",
       "      <td>Why does Quora automatically ban conservative ...</td>\n",
       "      <td>0</td>\n",
       "    </tr>\n",
       "    <tr>\n",
       "      <th>7</th>\n",
       "      <td>0000559f875832745e2e</td>\n",
       "      <td>Is it crazy if I wash or wipe my groceries off...</td>\n",
       "      <td>0</td>\n",
       "    </tr>\n",
       "    <tr>\n",
       "      <th>8</th>\n",
       "      <td>00005bd3426b2d0c8305</td>\n",
       "      <td>Is there such a thing as dressing moderately, ...</td>\n",
       "      <td>0</td>\n",
       "    </tr>\n",
       "    <tr>\n",
       "      <th>9</th>\n",
       "      <td>00006e6928c5df60eacb</td>\n",
       "      <td>Is it just me or have you ever been in this ph...</td>\n",
       "      <td>0</td>\n",
       "    </tr>\n",
       "  </tbody>\n",
       "</table>\n",
       "</div>"
      ],
      "text/plain": [
       "                    qid                                      question_text  \\\n",
       "0  00002165364db923c7e6  How did Quebec nationalists see their province...   \n",
       "1  000032939017120e6e44  Do you have an adopted dog, how would you enco...   \n",
       "2  0000412ca6e4628ce2cf  Why does velocity affect time? Does velocity a...   \n",
       "3  000042bf85aa498cd78e  How did Otto von Guericke used the Magdeburg h...   \n",
       "4  0000455dfa3e01eae3af  Can I convert montra helicon D to a mountain b...   \n",
       "5  00004f9a462a357c33be  Is Gaza slowly becoming Auschwitz, Dachau or T...   \n",
       "6  00005059a06ee19e11ad  Why does Quora automatically ban conservative ...   \n",
       "7  0000559f875832745e2e  Is it crazy if I wash or wipe my groceries off...   \n",
       "8  00005bd3426b2d0c8305  Is there such a thing as dressing moderately, ...   \n",
       "9  00006e6928c5df60eacb  Is it just me or have you ever been in this ph...   \n",
       "\n",
       "   target  \n",
       "0       0  \n",
       "1       0  \n",
       "2       0  \n",
       "3       0  \n",
       "4       0  \n",
       "5       0  \n",
       "6       0  \n",
       "7       0  \n",
       "8       0  \n",
       "9       0  "
      ]
     },
     "execution_count": 5,
     "metadata": {},
     "output_type": "execute_result"
    }
   ],
   "source": [
    "quora.head(10)"
   ]
  },
  {
   "cell_type": "code",
   "execution_count": 6,
   "metadata": {},
   "outputs": [],
   "source": [
    "quora_train, quora_test = train_test_split(quora, random_state=42)\n",
    "quora_train_data = quora_train.question_text\n",
    "quora_train_labels = quora_train.target\n",
    "quora_test_data = quora_test.question_text\n",
    "quora_test_labels = quora_test.target"
   ]
  },
  {
   "cell_type": "code",
   "execution_count": 7,
   "metadata": {},
   "outputs": [
    {
     "name": "stdout",
     "output_type": "stream",
     "text": [
      "Wall time: 0 ns\n"
     ]
    }
   ],
   "source": [
    "%time\n",
    "from sklearn.feature_extraction.text import CountVectorizer\n",
    "\n",
    "vectorizer = CountVectorizer()\n",
    "\n",
    "train_X = vectorizer.fit_transform(quora_train_data)\n",
    "train_y = quora_train_labels"
   ]
  },
  {
   "cell_type": "code",
   "execution_count": 8,
   "metadata": {},
   "outputs": [],
   "source": [
    "test_X = vectorizer.transform(quora_test_data)\n",
    "test_y = quora_test_labels"
   ]
  },
  {
   "cell_type": "code",
   "execution_count": 9,
   "metadata": {},
   "outputs": [
    {
     "name": "stdout",
     "output_type": "stream",
     "text": [
      "Wall time: 1d 9h 9min 20s\n"
     ]
    }
   ],
   "source": [
    "%%time\n",
    "from sklearn.ensemble import RandomForestClassifier\n",
    "from sklearn.model_selection import RandomizedSearchCV\n",
    "from scipy.stats import randint as sp_randint\n",
    "\n",
    "params = {\n",
    "    'n_estimators': sp_randint(5, 200), \n",
    "    'min_samples_split': sp_randint(2, 11), \n",
    "    'bootstrap': [True, False], \n",
    "    'criterion': [\"gini\", \"entropy\"]}\n",
    "clf = RandomForestClassifier(random_state=42)\n",
    "random_search = RandomizedSearchCV(clf, param_distributions=params,\n",
    "                                   n_iter=20, cv=3, n_jobs=-1)\n",
    "\n",
    "random_search.fit(train_X, train_y)"
   ]
  },
  {
   "cell_type": "code",
   "execution_count": 10,
   "metadata": {},
   "outputs": [
    {
     "data": {
      "text/plain": [
       "RandomForestClassifier(bootstrap=False, class_weight=None, criterion='gini',\n",
       "            max_depth=None, max_features='auto', max_leaf_nodes=None,\n",
       "            min_impurity_decrease=0.0, min_impurity_split=None,\n",
       "            min_samples_leaf=1, min_samples_split=10,\n",
       "            min_weight_fraction_leaf=0.0, n_estimators=37, n_jobs=None,\n",
       "            oob_score=False, random_state=42, verbose=0, warm_start=False)"
      ]
     },
     "execution_count": 10,
     "metadata": {},
     "output_type": "execute_result"
    }
   ],
   "source": [
    "clf = random_search.best_estimator_\n",
    "clf.fit(train_X, train_y)"
   ]
  },
  {
   "cell_type": "code",
   "execution_count": 11,
   "metadata": {},
   "outputs": [
    {
     "data": {
      "image/png": "[encoded data removed]",
      "text/plain": [
       "<Figure size 432x288 with 1 Axes>"
      ]
     },
     "metadata": {
      "needs_background": "light"
     },
     "output_type": "display_data"
    }
   ],
   "source": [
    "import matplotlib.pyplot as plt\n",
    "%matplotlib inline\n",
    "from sklearn.metrics import roc_auc_score, roc_curve\n",
    "\n",
    "test_predict_proba = clf.predict_proba(test_X)\n",
    "test_predict_proba_pos = test_predict_proba[:, 1]\n",
    "auc = roc_auc_score(test_y, test_predict_proba_pos)\n",
    "curve = roc_curve(test_y, test_predict_proba_pos)\n",
    "\n",
    "\n",
    "plt.plot(curve[0], curve[1]);\n",
    "plt.plot([0,1], [0,1])\n",
    "plt.xlabel('FPR'); plt.ylabel('TPR'); plt.title('test AUC = %f' % (auc)); plt.axis([-0.05,1.05,-0.05,1.05]);"
   ]
  },
  {
   "cell_type": "code",
   "execution_count": 12,
   "metadata": {},
   "outputs": [
    {
     "name": "stdout",
     "output_type": "stream",
     "text": [
      "accuracy 0.945456939769884\n",
      "precision 0.8106215348701488\n",
      "recall 0.1393249410702643\n",
      "f1 0.23778139176581356\n"
     ]
    },
    {
     "data": {
      "text/plain": [
       "array([[305943,    649],\n",
       "       [ 17161,   2778]], dtype=int64)"
      ]
     },
     "execution_count": 12,
     "metadata": {},
     "output_type": "execute_result"
    }
   ],
   "source": [
    "import numpy as np\n",
    "from sklearn.metrics import confusion_matrix, accuracy_score\n",
    "from sklearn.metrics import precision_score, recall_score, f1_score\n",
    "\n",
    "to_labels = np.vectorize(lambda x: 1 if x > 0.5 else 0)\n",
    "test_predict = to_labels(test_predict_proba_pos)\n",
    "\n",
    "print('accuracy', accuracy_score(test_y, test_predict))\n",
    "print('precision', precision_score(test_y, test_predict))\n",
    "print('recall', recall_score(test_y, test_predict))\n",
    "print('f1', f1_score(test_y, test_predict))\n",
    "confusion_matrix(test_y, test_predict)\n"
   ]
  },
  {
   "cell_type": "code",
   "execution_count": 15,
   "metadata": {},
   "outputs": [
    {
     "name": "stdout",
     "output_type": "stream",
     "text": [
      "0.9419196378896907 {'bootstrap': True, 'criterion': 'entropy', 'min_samples_split': 5, 'n_estimators': 40}\n",
      "0.9421421797464452 {'bootstrap': False, 'criterion': 'entropy', 'min_samples_split': 10, 'n_estimators': 177}\n",
      "0.942948638768629 {'bootstrap': False, 'criterion': 'entropy', 'min_samples_split': 6, 'n_estimators': 31}\n",
      "0.9431946598121053 {'bootstrap': False, 'criterion': 'gini', 'min_samples_split': 5, 'n_estimators': 81}\n",
      "0.9415041583681353 {'bootstrap': True, 'criterion': 'entropy', 'min_samples_split': 5, 'n_estimators': 129}\n",
      "0.942217721477637 {'bootstrap': False, 'criterion': 'entropy', 'min_samples_split': 8, 'n_estimators': 165}\n",
      "0.9432099723251847 {'bootstrap': False, 'criterion': 'gini', 'min_samples_split': 10, 'n_estimators': 37}\n",
      "0.942258554845849 {'bootstrap': True, 'criterion': 'gini', 'min_samples_split': 5, 'n_estimators': 141}\n",
      "0.9413398040610826 {'bootstrap': True, 'criterion': 'entropy', 'min_samples_split': 9, 'n_estimators': 72}\n",
      "0.941693012696115 {'bootstrap': True, 'criterion': 'entropy', 'min_samples_split': 3, 'n_estimators': 134}\n",
      "0.941603179286049 {'bootstrap': True, 'criterion': 'entropy', 'min_samples_split': 4, 'n_estimators': 159}\n",
      "0.9427985761404505 {'bootstrap': False, 'criterion': 'gini', 'min_samples_split': 9, 'n_estimators': 160}\n",
      "0.9428567636901524 {'bootstrap': False, 'criterion': 'entropy', 'min_samples_split': 9, 'n_estimators': 24}\n",
      "0.9420166171391938 {'bootstrap': True, 'criterion': 'gini', 'min_samples_split': 8, 'n_estimators': 184}\n",
      "0.9421636172647564 {'bootstrap': True, 'criterion': 'gini', 'min_samples_split': 6, 'n_estimators': 143}\n",
      "0.9424341383291598 {'bootstrap': True, 'criterion': 'gini', 'min_samples_split': 2, 'n_estimators': 194}\n",
      "0.9418502211637306 {'bootstrap': True, 'criterion': 'gini', 'min_samples_split': 10, 'n_estimators': 153}\n",
      "0.9423453257532991 {'bootstrap': True, 'criterion': 'gini', 'min_samples_split': 2, 'n_estimators': 120}\n",
      "0.9425944092993913 {'bootstrap': False, 'criterion': 'entropy', 'min_samples_split': 4, 'n_estimators': 70}\n",
      "0.9429302637529337 {'bootstrap': True, 'criterion': 'gini', 'min_samples_split': 2, 'n_estimators': 49}\n"
     ]
    }
   ],
   "source": [
    "for mean_score, params in zip(random_search.cv_results_['mean_test_score'], random_search.cv_results_['params']):\n",
    "    print(mean_score, params)"
   ]
  },
  {
   "cell_type": "code",
   "execution_count": 18,
   "metadata": {},
   "outputs": [
    {
     "name": "stdout",
     "output_type": "stream",
     "text": [
      "0.9432099723251847 {'bootstrap': False, 'criterion': 'gini', 'min_samples_split': 10, 'n_estimators': 37}\n"
     ]
    }
   ],
   "source": [
    "print(random_search.best_score_, random_search.best_params_)"
   ]
  },
  {
   "cell_type": "code",
   "execution_count": null,
   "metadata": {},
   "outputs": [],
   "source": []
  }
 ],
 "metadata": {
  "kernelspec": {
   "display_name": "Python 3",
   "language": "python",
   "name": "python3"
  },
  "language_info": {
   "codemirror_mode": {
    "name": "ipython",
    "version": 3
   },
   "file_extension": ".py",
   "mimetype": "text/x-python",
   "name": "python",
   "nbconvert_exporter": "python",
   "pygments_lexer": "ipython3",
   "version": "3.6.5"
  }
 },
 "nbformat": 4,
 "nbformat_minor": 2
}
