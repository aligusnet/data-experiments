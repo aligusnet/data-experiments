{
 "cells": [
  {
   "cell_type": "markdown",
   "metadata": {},
   "source": [
    "# Quora Insincere Questions classification based on Token Counts\n",
    "## using sklearn logistic regression\n",
    "## using spacy to clean data"
   ]
  },
  {
   "cell_type": "code",
   "execution_count": 1,
   "metadata": {},
   "outputs": [],
   "source": [
    "import re\n",
    "import os\n",
    "import numpy as np\n",
    "import pandas as pd\n",
    "from sklearn.model_selection import train_test_split\n",
    "from sklearn.metrics import roc_auc_score, roc_curve, accuracy_score\n",
    "from sklearn.metrics import confusion_matrix\n",
    "from sklearn.metrics import precision_score, recall_score, f1_score\n",
    "import matplotlib.pyplot as plt\n",
    "%matplotlib inline"
   ]
  },
  {
   "cell_type": "code",
   "execution_count": 2,
   "metadata": {},
   "outputs": [],
   "source": [
    "WORKING_DIR = os.path.join('.input', 'clean_token_counts_logistic')"
   ]
  },
  {
   "cell_type": "code",
   "execution_count": 3,
   "metadata": {},
   "outputs": [],
   "source": [
    "quora = pd.read_csv('../data/.input/train.csv', nrows=20_000)"
   ]
  },
  {
   "cell_type": "code",
   "execution_count": 4,
   "metadata": {
    "scrolled": true
   },
   "outputs": [
    {
     "data": {
      "text/html": [
       "<div>\n",
       "<style scoped>\n",
       "    .dataframe tbody tr th:only-of-type {\n",
       "        vertical-align: middle;\n",
       "    }\n",
       "\n",
       "    .dataframe tbody tr th {\n",
       "        vertical-align: top;\n",
       "    }\n",
       "\n",
       "    .dataframe thead th {\n",
       "        text-align: right;\n",
       "    }\n",
       "</style>\n",
       "<table border=\"1\" class=\"dataframe\">\n",
       "  <thead>\n",
       "    <tr style=\"text-align: right;\">\n",
       "      <th></th>\n",
       "      <th>qid</th>\n",
       "      <th>question_text</th>\n",
       "      <th>target</th>\n",
       "    </tr>\n",
       "  </thead>\n",
       "  <tbody>\n",
       "    <tr>\n",
       "      <th>0</th>\n",
       "      <td>00002165364db923c7e6</td>\n",
       "      <td>How did Quebec nationalists see their province...</td>\n",
       "      <td>0</td>\n",
       "    </tr>\n",
       "    <tr>\n",
       "      <th>1</th>\n",
       "      <td>000032939017120e6e44</td>\n",
       "      <td>Do you have an adopted dog, how would you enco...</td>\n",
       "      <td>0</td>\n",
       "    </tr>\n",
       "    <tr>\n",
       "      <th>2</th>\n",
       "      <td>0000412ca6e4628ce2cf</td>\n",
       "      <td>Why does velocity affect time? Does velocity a...</td>\n",
       "      <td>0</td>\n",
       "    </tr>\n",
       "    <tr>\n",
       "      <th>3</th>\n",
       "      <td>000042bf85aa498cd78e</td>\n",
       "      <td>How did Otto von Guericke used the Magdeburg h...</td>\n",
       "      <td>0</td>\n",
       "    </tr>\n",
       "    <tr>\n",
       "      <th>4</th>\n",
       "      <td>0000455dfa3e01eae3af</td>\n",
       "      <td>Can I convert montra helicon D to a mountain b...</td>\n",
       "      <td>0</td>\n",
       "    </tr>\n",
       "    <tr>\n",
       "      <th>5</th>\n",
       "      <td>00004f9a462a357c33be</td>\n",
       "      <td>Is Gaza slowly becoming Auschwitz, Dachau or T...</td>\n",
       "      <td>0</td>\n",
       "    </tr>\n",
       "    <tr>\n",
       "      <th>6</th>\n",
       "      <td>00005059a06ee19e11ad</td>\n",
       "      <td>Why does Quora automatically ban conservative ...</td>\n",
       "      <td>0</td>\n",
       "    </tr>\n",
       "    <tr>\n",
       "      <th>7</th>\n",
       "      <td>0000559f875832745e2e</td>\n",
       "      <td>Is it crazy if I wash or wipe my groceries off...</td>\n",
       "      <td>0</td>\n",
       "    </tr>\n",
       "    <tr>\n",
       "      <th>8</th>\n",
       "      <td>00005bd3426b2d0c8305</td>\n",
       "      <td>Is there such a thing as dressing moderately, ...</td>\n",
       "      <td>0</td>\n",
       "    </tr>\n",
       "    <tr>\n",
       "      <th>9</th>\n",
       "      <td>00006e6928c5df60eacb</td>\n",
       "      <td>Is it just me or have you ever been in this ph...</td>\n",
       "      <td>0</td>\n",
       "    </tr>\n",
       "  </tbody>\n",
       "</table>\n",
       "</div>"
      ],
      "text/plain": [
       "                    qid                                      question_text  \\\n",
       "0  00002165364db923c7e6  How did Quebec nationalists see their province...   \n",
       "1  000032939017120e6e44  Do you have an adopted dog, how would you enco...   \n",
       "2  0000412ca6e4628ce2cf  Why does velocity affect time? Does velocity a...   \n",
       "3  000042bf85aa498cd78e  How did Otto von Guericke used the Magdeburg h...   \n",
       "4  0000455dfa3e01eae3af  Can I convert montra helicon D to a mountain b...   \n",
       "5  00004f9a462a357c33be  Is Gaza slowly becoming Auschwitz, Dachau or T...   \n",
       "6  00005059a06ee19e11ad  Why does Quora automatically ban conservative ...   \n",
       "7  0000559f875832745e2e  Is it crazy if I wash or wipe my groceries off...   \n",
       "8  00005bd3426b2d0c8305  Is there such a thing as dressing moderately, ...   \n",
       "9  00006e6928c5df60eacb  Is it just me or have you ever been in this ph...   \n",
       "\n",
       "   target  \n",
       "0       0  \n",
       "1       0  \n",
       "2       0  \n",
       "3       0  \n",
       "4       0  \n",
       "5       0  \n",
       "6       0  \n",
       "7       0  \n",
       "8       0  \n",
       "9       0  "
      ]
     },
     "execution_count": 4,
     "metadata": {},
     "output_type": "execute_result"
    }
   ],
   "source": [
    "quora.head(10)"
   ]
  },
  {
   "cell_type": "code",
   "execution_count": 6,
   "metadata": {},
   "outputs": [],
   "source": [
    "import spacy\n",
    "\n",
    "nlp = spacy.load('en_core_web_md', disable=[\"parser\", \"ner\"])"
   ]
  },
  {
   "cell_type": "code",
   "execution_count": 7,
   "metadata": {},
   "outputs": [
    {
     "name": "stdout",
     "output_type": "stream",
     "text": [
      "How did Quebec nationalists see their province as a nation in the 1960s?\n",
      "how do quebec nationalist see -pron- province as a nation in the 1960\n"
     ]
    }
   ],
   "source": [
    "def clean_data(text):\n",
    "    doc = nlp(text)\n",
    "    return ' '.join([token.lemma_.lower() for token in doc if not token.is_punct and not token.is_stop])\n",
    "\n",
    "print(quora.question_text.iloc[0])\n",
    "print(clean_data(quora.question_text.iloc[0]))"
   ]
  },
  {
   "cell_type": "code",
   "execution_count": 8,
   "metadata": {},
   "outputs": [
    {
     "name": "stdout",
     "output_type": "stream",
     "text": [
      "Wall time: 1min 34s\n"
     ]
    }
   ],
   "source": [
    "%%time\n",
    "\n",
    "quora['clean_question_text'] = quora.question_text.apply(clean_data)\n",
    "quora.head(10)"
   ]
  },
  {
   "cell_type": "code",
   "execution_count": 9,
   "metadata": {},
   "outputs": [],
   "source": [
    "quora_train, quora_test = train_test_split(quora, random_state=42)\n",
    "quora_train_data = quora_train.clean_question_text\n",
    "quora_train_labels = quora_train.target\n",
    "quora_test_data = quora_test.clean_question_text\n",
    "quora_test_labels = quora_test.target"
   ]
  },
  {
   "cell_type": "code",
   "execution_count": 10,
   "metadata": {},
   "outputs": [
    {
     "name": "stdout",
     "output_type": "stream",
     "text": [
      "Wall time: 0 ns\n"
     ]
    }
   ],
   "source": [
    "%time\n",
    "from sklearn.feature_extraction.text import CountVectorizer\n",
    "\n",
    "vectorizer = CountVectorizer()\n",
    "\n",
    "train_X = vectorizer.fit_transform(quora_train_data)\n",
    "train_y = quora_train_labels"
   ]
  },
  {
   "cell_type": "code",
   "execution_count": 11,
   "metadata": {},
   "outputs": [],
   "source": [
    "test_X = vectorizer.transform(quora_test_data)\n",
    "test_y = quora_test_labels"
   ]
  },
  {
   "cell_type": "code",
   "execution_count": 12,
   "metadata": {},
   "outputs": [],
   "source": [
    "import matplotlib.pyplot as plt\n",
    "%matplotlib inline\n",
    "from sklearn.metrics import roc_auc_score, roc_curve\n",
    "\n",
    "import numpy as np\n",
    "from sklearn.metrics import confusion_matrix, accuracy_score\n",
    "from sklearn.metrics import precision_score, recall_score, f1_score\n",
    "\n",
    "def report_results(clf, test_X, test_y):\n",
    "    test_predict_proba = clf.predict_proba(test_X)\n",
    "    test_predict_proba_pos = test_predict_proba[:, 1]\n",
    "    auc = roc_auc_score(test_y, test_predict_proba_pos)\n",
    "    curve = roc_curve(test_y, test_predict_proba_pos)\n",
    "\n",
    "\n",
    "    plt.plot(curve[0], curve[1]);\n",
    "    plt.plot([0,1], [0,1])\n",
    "    plt.xlabel('FPR'); plt.ylabel('TPR'); plt.title('test AUC = %f' % (auc)); plt.axis([-0.05,1.05,-0.05,1.05]);\n",
    "    \n",
    "    to_labels = np.vectorize(lambda x: 1 if x > 0.5 else 0)\n",
    "    test_predict = to_labels(test_predict_proba_pos)\n",
    "\n",
    "    print('accuracy', accuracy_score(test_y, test_predict))\n",
    "    print('precision', precision_score(test_y, test_predict))\n",
    "    print('recall', recall_score(test_y, test_predict))\n",
    "    print('f1', f1_score(test_y, test_predict))\n",
    "    print('AUC', auc)\n",
    "    confusion_matrix(test_y, test_predict)\n"
   ]
  },
  {
   "cell_type": "markdown",
   "metadata": {},
   "source": [
    "## Logistic Regression"
   ]
  },
  {
   "cell_type": "code",
   "execution_count": 13,
   "metadata": {},
   "outputs": [
    {
     "name": "stdout",
     "output_type": "stream",
     "text": [
      "Wall time: 3.43 s\n"
     ]
    }
   ],
   "source": [
    "%%time\n",
    "\n",
    "from sklearn.linear_model import LogisticRegression\n",
    "\n",
    "clf = LogisticRegression(solver='saga', C = 0.5, class_weight='balanced', random_state=42, max_iter=500)\n",
    "clf.fit(train_X, train_y)"
   ]
  },
  {
   "cell_type": "code",
   "execution_count": 14,
   "metadata": {},
   "outputs": [
    {
     "name": "stdout",
     "output_type": "stream",
     "text": [
      "accuracy 0.919\n",
      "precision 0.38589211618257263\n",
      "recall 0.6305084745762712\n",
      "f1 0.4787644787644788\n",
      "AUC 0.8948864352744106\n"
     ]
    },
    {
     "data": {
      "image/png": "[encoded data removed]",
      "text/plain": [
       "<Figure size 432x288 with 1 Axes>"
      ]
     },
     "metadata": {
      "needs_background": "light"
     },
     "output_type": "display_data"
    }
   ],
   "source": [
    "report_results(clf, test_X, test_y)"
   ]
  },
  {
   "cell_type": "markdown",
   "metadata": {},
   "source": [
    "## Grid Search"
   ]
  },
  {
   "cell_type": "code",
   "execution_count": 18,
   "metadata": {},
   "outputs": [
    {
     "name": "stdout",
     "output_type": "stream",
     "text": [
      "Wall time: 3min 57s\n"
     ]
    }
   ],
   "source": [
    "%%time\n",
    "\n",
    "from sklearn.linear_model import LogisticRegression\n",
    "\n",
    "from sklearn.model_selection import GridSearchCV\n",
    "\n",
    "params_grid = [{'solver': ['saga'], 'C': [0.1, 0.5, 5.0], 'class_weight': [None, 'balanced'], 'penalty': ['l1', 'l2']},\n",
    "               {'solver': ['newton-cg', 'sag'], 'C': [0.1, 0.5, 5.0], 'class_weight': [None, 'balanced'], 'penalty': ['l2']}]\n",
    "\n",
    "clf = LogisticRegression(random_state=42, max_iter=500)\n",
    "\n",
    "grid_search = GridSearchCV(clf, params_grid, cv=5, return_train_score=True, scoring='f1', n_jobs=-1)\n",
    "\n",
    "grid_search.fit(train_X, train_y)"
   ]
  },
  {
   "cell_type": "code",
   "execution_count": 19,
   "metadata": {},
   "outputs": [
    {
     "name": "stdout",
     "output_type": "stream",
     "text": [
      "0.2243648989771229 {'C': 0.1, 'class_weight': None, 'penalty': 'l1', 'solver': 'saga'}\n",
      "0.2649961236350013 {'C': 0.1, 'class_weight': None, 'penalty': 'l2', 'solver': 'saga'}\n",
      "0.41301164303957966 {'C': 0.1, 'class_weight': 'balanced', 'penalty': 'l1', 'solver': 'saga'}\n",
      "0.46614685883923923 {'C': 0.1, 'class_weight': 'balanced', 'penalty': 'l2', 'solver': 'saga'}\n",
      "0.3817005647282761 {'C': 0.5, 'class_weight': None, 'penalty': 'l1', 'solver': 'saga'}\n",
      "0.3922639289771967 {'C': 0.5, 'class_weight': None, 'penalty': 'l2', 'solver': 'saga'}\n",
      "0.4904163032628928 {'C': 0.5, 'class_weight': 'balanced', 'penalty': 'l1', 'solver': 'saga'}\n",
      "0.49409445547512937 {'C': 0.5, 'class_weight': 'balanced', 'penalty': 'l2', 'solver': 'saga'}\n",
      "0.448270307590733 {'C': 5.0, 'class_weight': None, 'penalty': 'l1', 'solver': 'saga'}\n",
      "0.44292075671771397 {'C': 5.0, 'class_weight': None, 'penalty': 'l2', 'solver': 'saga'}\n",
      "0.4765131945057335 {'C': 5.0, 'class_weight': 'balanced', 'penalty': 'l1', 'solver': 'saga'}\n",
      "0.48055928522795416 {'C': 5.0, 'class_weight': 'balanced', 'penalty': 'l2', 'solver': 'saga'}\n",
      "0.2698948594528201 {'C': 0.1, 'class_weight': None, 'penalty': 'l2', 'solver': 'newton-cg'}\n",
      "0.26990399727396724 {'C': 0.1, 'class_weight': None, 'penalty': 'l2', 'solver': 'sag'}\n",
      "0.4681248596295771 {'C': 0.1, 'class_weight': 'balanced', 'penalty': 'l2', 'solver': 'newton-cg'}\n",
      "0.46761904567757695 {'C': 0.1, 'class_weight': 'balanced', 'penalty': 'l2', 'solver': 'sag'}\n",
      "0.3935781667402436 {'C': 0.5, 'class_weight': None, 'penalty': 'l2', 'solver': 'newton-cg'}\n",
      "0.3933538489437602 {'C': 0.5, 'class_weight': None, 'penalty': 'l2', 'solver': 'sag'}\n",
      "0.4960003944890142 {'C': 0.5, 'class_weight': 'balanced', 'penalty': 'l2', 'solver': 'newton-cg'}\n",
      "0.49497662964380496 {'C': 0.5, 'class_weight': 'balanced', 'penalty': 'l2', 'solver': 'sag'}\n",
      "0.44019178003514414 {'C': 5.0, 'class_weight': None, 'penalty': 'l2', 'solver': 'newton-cg'}\n",
      "0.44429188393469127 {'C': 5.0, 'class_weight': None, 'penalty': 'l2', 'solver': 'sag'}\n",
      "0.48933285525264864 {'C': 5.0, 'class_weight': 'balanced', 'penalty': 'l2', 'solver': 'newton-cg'}\n",
      "0.4854817737338181 {'C': 5.0, 'class_weight': 'balanced', 'penalty': 'l2', 'solver': 'sag'}\n",
      "\n",
      "best params {'C': 0.5, 'class_weight': 'balanced', 'penalty': 'l2', 'solver': 'newton-cg'}\n"
     ]
    }
   ],
   "source": [
    "for score, params in zip(grid_search.cv_results_['mean_test_score'], grid_search.cv_results_['params']):\n",
    "        print(score, params)\n",
    "\n",
    "print('\\nbest params', grid_search.best_params_)"
   ]
  },
  {
   "cell_type": "code",
   "execution_count": 20,
   "metadata": {},
   "outputs": [
    {
     "name": "stdout",
     "output_type": "stream",
     "text": [
      "accuracy 0.92\n",
      "precision 0.389937106918239\n",
      "recall 0.6305084745762712\n",
      "f1 0.4818652849740932\n",
      "AUC 0.8956688701165367\n"
     ]
    },
    {
     "data": {
      "image/png": "[encoded data removed]",
      "text/plain": [
       "<Figure size 432x288 with 1 Axes>"
      ]
     },
     "metadata": {
      "needs_background": "light"
     },
     "output_type": "display_data"
    }
   ],
   "source": [
    "report_results(grid_search.best_estimator_, test_X, test_y)"
   ]
  },
  {
   "cell_type": "code",
   "execution_count": null,
   "metadata": {},
   "outputs": [],
   "source": []
  }
 ],
 "metadata": {
  "kernelspec": {
   "display_name": "Python 3",
   "language": "python",
   "name": "python3"
  },
  "language_info": {
   "codemirror_mode": {
    "name": "ipython",
    "version": 3
   },
   "file_extension": ".py",
   "mimetype": "text/x-python",
   "name": "python",
   "nbconvert_exporter": "python",
   "pygments_lexer": "ipython3",
   "version": "3.7.1"
  }
 },
 "nbformat": 4,
 "nbformat_minor": 2
}
